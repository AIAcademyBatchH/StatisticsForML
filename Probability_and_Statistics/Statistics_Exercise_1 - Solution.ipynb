{
 "cells": [
  {
   "cell_type": "code",
   "execution_count": 1,
   "id": "93b99f92",
   "metadata": {},
   "outputs": [],
   "source": [
    "import pandas as pd\n",
    "import numpy as np\n",
    "from scipy import stats"
   ]
  },
  {
   "cell_type": "code",
   "execution_count": 9,
   "id": "2d43e9f6",
   "metadata": {},
   "outputs": [
    {
     "name": "stdout",
     "output_type": "stream",
     "text": [
      "2.0\n"
     ]
    }
   ],
   "source": [
    "# 1. Define a function for computing median without using any python library, and use the same to locate the median of the \n",
    "# following data: [2,0,1,2,5,6]\n",
    "\n",
    "def median(x,n):\n",
    "    #sorting the list in ascending order\n",
    "    x.sort()                                              \n",
    "    #for even no. of items in the list, we take avg of middle two elements\n",
    "    if n % 2 == 0:\n",
    "        median1 = x[n//2]\n",
    "        median2 = x[n//2 - 1]                               \n",
    "        median = (median1 + median2)/2                    \n",
    "    #for odd no. of items, we get the middle element \n",
    "    else:                            \n",
    "        median = x[n//2] \n",
    "    return median\n",
    "\n",
    "ls = [2,0,1,2,5,6]\n",
    "median = median(ls,len(ls))\n",
    "print(median)"
   ]
  },
  {
   "cell_type": "code",
   "execution_count": 2,
   "id": "fbbc6719",
   "metadata": {},
   "outputs": [
    {
     "data": {
      "text/html": [
       "<div>\n",
       "<style scoped>\n",
       "    .dataframe tbody tr th:only-of-type {\n",
       "        vertical-align: middle;\n",
       "    }\n",
       "\n",
       "    .dataframe tbody tr th {\n",
       "        vertical-align: top;\n",
       "    }\n",
       "\n",
       "    .dataframe thead th {\n",
       "        text-align: right;\n",
       "    }\n",
       "</style>\n",
       "<table border=\"1\" class=\"dataframe\">\n",
       "  <thead>\n",
       "    <tr style=\"text-align: right;\">\n",
       "      <th></th>\n",
       "      <th>Company</th>\n",
       "      <th>Model</th>\n",
       "      <th>Rating</th>\n",
       "      <th>Type</th>\n",
       "      <th>Price</th>\n",
       "    </tr>\n",
       "  </thead>\n",
       "  <tbody>\n",
       "    <tr>\n",
       "      <th>0</th>\n",
       "      <td>Ford</td>\n",
       "      <td>Mustang</td>\n",
       "      <td>A</td>\n",
       "      <td>Coupe</td>\n",
       "      <td>27000</td>\n",
       "    </tr>\n",
       "    <tr>\n",
       "      <th>1</th>\n",
       "      <td>Chevy</td>\n",
       "      <td>Camaro</td>\n",
       "      <td>B</td>\n",
       "      <td>Coupe</td>\n",
       "      <td>17450</td>\n",
       "    </tr>\n",
       "    <tr>\n",
       "      <th>2</th>\n",
       "      <td>Ford</td>\n",
       "      <td>Fiesta</td>\n",
       "      <td>C</td>\n",
       "      <td>Sedan</td>\n",
       "      <td>13789</td>\n",
       "    </tr>\n",
       "    <tr>\n",
       "      <th>3</th>\n",
       "      <td>Toyota</td>\n",
       "      <td>Camry</td>\n",
       "      <td>B</td>\n",
       "      <td>Sedan</td>\n",
       "      <td>16980</td>\n",
       "    </tr>\n",
       "    <tr>\n",
       "      <th>4</th>\n",
       "      <td>Ford</td>\n",
       "      <td>Taurus</td>\n",
       "      <td>B</td>\n",
       "      <td>Sedan</td>\n",
       "      <td>9830</td>\n",
       "    </tr>\n",
       "  </tbody>\n",
       "</table>\n",
       "</div>"
      ],
      "text/plain": [
       "  Company    Model Rating   Type  Price\n",
       "0    Ford  Mustang      A  Coupe  27000\n",
       "1   Chevy   Camaro      B  Coupe  17450\n",
       "2    Ford   Fiesta      C  Sedan  13789\n",
       "3  Toyota    Camry      B  Sedan  16980\n",
       "4    Ford   Taurus      B  Sedan   9830"
      ]
     },
     "execution_count": 2,
     "metadata": {},
     "output_type": "execute_result"
    }
   ],
   "source": [
    "# 2. Read the car_data and calculate the measures of central tendency for the price column\n",
    "\n",
    "df = pd.read_excel(\"Car_data.xlsx\")\n",
    "df"
   ]
  },
  {
   "cell_type": "code",
   "execution_count": 3,
   "id": "6ad8419d",
   "metadata": {},
   "outputs": [
    {
     "name": "stdout",
     "output_type": "stream",
     "text": [
      "Average price:  17009.8\n",
      "Median price:  16980.0\n",
      "Mode:  0     9830\n",
      "1    13789\n",
      "2    16980\n",
      "3    17450\n",
      "4    27000\n",
      "dtype: int64\n"
     ]
    }
   ],
   "source": [
    "mean = df['Price'].mean()\n",
    "print(\"Average price: \", mean)\n",
    "\n",
    "median = df['Price'].median()\n",
    "print(\"Median price: \", median)\n",
    "\n",
    "mode = df['Price'].mode()\n",
    "print(\"Mode: \", mode)"
   ]
  },
  {
   "cell_type": "code",
   "execution_count": 4,
   "id": "3cf72669",
   "metadata": {},
   "outputs": [
    {
     "data": {
      "text/html": [
       "<div>\n",
       "<style scoped>\n",
       "    .dataframe tbody tr th:only-of-type {\n",
       "        vertical-align: middle;\n",
       "    }\n",
       "\n",
       "    .dataframe tbody tr th {\n",
       "        vertical-align: top;\n",
       "    }\n",
       "\n",
       "    .dataframe thead th {\n",
       "        text-align: right;\n",
       "    }\n",
       "</style>\n",
       "<table border=\"1\" class=\"dataframe\">\n",
       "  <thead>\n",
       "    <tr style=\"text-align: right;\">\n",
       "      <th></th>\n",
       "      <th>Deal</th>\n",
       "      <th>SP1</th>\n",
       "      <th>SP2</th>\n",
       "      <th>SP3</th>\n",
       "    </tr>\n",
       "  </thead>\n",
       "  <tbody>\n",
       "    <tr>\n",
       "      <th>0</th>\n",
       "      <td>D1</td>\n",
       "      <td>145000</td>\n",
       "      <td>105000</td>\n",
       "      <td>65000</td>\n",
       "    </tr>\n",
       "    <tr>\n",
       "      <th>1</th>\n",
       "      <td>D2</td>\n",
       "      <td>25000</td>\n",
       "      <td>110000</td>\n",
       "      <td>45000</td>\n",
       "    </tr>\n",
       "    <tr>\n",
       "      <th>2</th>\n",
       "      <td>D3</td>\n",
       "      <td>300000</td>\n",
       "      <td>125000</td>\n",
       "      <td>70000</td>\n",
       "    </tr>\n",
       "    <tr>\n",
       "      <th>3</th>\n",
       "      <td>D4</td>\n",
       "      <td>43000</td>\n",
       "      <td>110000</td>\n",
       "      <td>150000</td>\n",
       "    </tr>\n",
       "    <tr>\n",
       "      <th>4</th>\n",
       "      <td>D5</td>\n",
       "      <td>55000</td>\n",
       "      <td>118000</td>\n",
       "      <td>238000</td>\n",
       "    </tr>\n",
       "  </tbody>\n",
       "</table>\n",
       "</div>"
      ],
      "text/plain": [
       "  Deal     SP1     SP2     SP3\n",
       "0   D1  145000  105000   65000\n",
       "1   D2   25000  110000   45000\n",
       "2   D3  300000  125000   70000\n",
       "3   D4   43000  110000  150000\n",
       "4   D5   55000  118000  238000"
      ]
     },
     "execution_count": 4,
     "metadata": {},
     "output_type": "execute_result"
    }
   ],
   "source": [
    "# 3. Read the Sales_data and compute the variance and standard deviation. Also, determine the least consistent sales person.\n",
    "\n",
    "sales_df = pd.read_excel(\"Sales_data.xlsx\")\n",
    "sales_df"
   ]
  },
  {
   "cell_type": "code",
   "execution_count": 5,
   "id": "897c844b",
   "metadata": {},
   "outputs": [
    {
     "data": {
      "text/plain": [
       "SP1    568000\n",
       "SP2    568000\n",
       "SP3    568000\n",
       "dtype: int64"
      ]
     },
     "execution_count": 5,
     "metadata": {},
     "output_type": "execute_result"
    }
   ],
   "source": [
    "sales_df.drop('Deal',axis=1).sum() "
   ]
  },
  {
   "cell_type": "code",
   "execution_count": 6,
   "id": "7bf4adc8",
   "metadata": {},
   "outputs": [
    {
     "data": {
      "text/plain": [
       "SP1    114016.665449\n",
       "SP2      7893.034904\n",
       "SP3     80263.939599\n",
       "dtype: float64"
      ]
     },
     "execution_count": 6,
     "metadata": {},
     "output_type": "execute_result"
    }
   ],
   "source": [
    "sales_df.drop('Deal',axis=1).std() "
   ]
  },
  {
   "cell_type": "code",
   "execution_count": 7,
   "id": "69742f08",
   "metadata": {},
   "outputs": [
    {
     "data": {
      "text/plain": [
       "SP1    113600.0\n",
       "SP2    113600.0\n",
       "SP3    113600.0\n",
       "dtype: float64"
      ]
     },
     "execution_count": 7,
     "metadata": {},
     "output_type": "execute_result"
    }
   ],
   "source": [
    "sales_df.drop('Deal',axis=1).mean() "
   ]
  },
  {
   "cell_type": "code",
   "execution_count": 8,
   "id": "e35b1db8",
   "metadata": {},
   "outputs": [],
   "source": [
    "# SP1 is the least consistent with his sales"
   ]
  },
  {
   "cell_type": "code",
   "execution_count": 10,
   "id": "5f183284",
   "metadata": {},
   "outputs": [
    {
     "data": {
      "text/html": [
       "<div>\n",
       "<style scoped>\n",
       "    .dataframe tbody tr th:only-of-type {\n",
       "        vertical-align: middle;\n",
       "    }\n",
       "\n",
       "    .dataframe tbody tr th {\n",
       "        vertical-align: top;\n",
       "    }\n",
       "\n",
       "    .dataframe thead th {\n",
       "        text-align: right;\n",
       "    }\n",
       "</style>\n",
       "<table border=\"1\" class=\"dataframe\">\n",
       "  <thead>\n",
       "    <tr style=\"text-align: right;\">\n",
       "      <th></th>\n",
       "      <th>Company</th>\n",
       "      <th>Model</th>\n",
       "      <th>Rating</th>\n",
       "      <th>Type</th>\n",
       "      <th>Price</th>\n",
       "    </tr>\n",
       "  </thead>\n",
       "  <tbody>\n",
       "    <tr>\n",
       "      <th>0</th>\n",
       "      <td>Ford</td>\n",
       "      <td>Mustang</td>\n",
       "      <td>A</td>\n",
       "      <td>Coupe</td>\n",
       "      <td>27000</td>\n",
       "    </tr>\n",
       "  </tbody>\n",
       "</table>\n",
       "</div>"
      ],
      "text/plain": [
       "  Company    Model Rating   Type  Price\n",
       "0    Ford  Mustang      A  Coupe  27000"
      ]
     },
     "execution_count": 10,
     "metadata": {},
     "output_type": "execute_result"
    }
   ],
   "source": [
    "# 4. Determine the probability of choosing a car with rating 'A' from the Car_data\n",
    "\n",
    "a = df[df['Rating']=='A']\n",
    "a"
   ]
  },
  {
   "cell_type": "code",
   "execution_count": 11,
   "id": "6bdeebc8",
   "metadata": {},
   "outputs": [
    {
     "data": {
      "text/plain": [
       "Rating\n",
       "A    0.2\n",
       "dtype: float64"
      ]
     },
     "execution_count": 11,
     "metadata": {},
     "output_type": "execute_result"
    }
   ],
   "source": [
    "a.groupby('Rating').size()/len(df)"
   ]
  },
  {
   "cell_type": "code",
   "execution_count": 15,
   "id": "fca9a3e9",
   "metadata": {},
   "outputs": [
    {
     "name": "stdout",
     "output_type": "stream",
     "text": [
      "Probability of drawing more than 4 defects:  0.003\n"
     ]
    }
   ],
   "source": [
    "# 5. In a manufacturing unit, the process has a defect rate of 7%. As part of the quality control process, you\n",
    "# randomly evaluate products in lots of 15. What is the probability of drawing more than 4 defective items from a random sample?\n",
    "\n",
    "from scipy.stats import binom\n",
    "n = 15                                     #no. of items in each lot\n",
    "p = 0.07                                   #defect rate\n",
    "r = 4                                      #no. of defects drawn\n",
    "dist = 1- binom.cdf(r,n,p)\n",
    "print(\"Probability of drawing more than 4 defects: \", round(dist,3))"
   ]
  },
  {
   "cell_type": "code",
   "execution_count": 16,
   "id": "109a42b6",
   "metadata": {},
   "outputs": [],
   "source": [
    "### end of notebook"
   ]
  }
 ],
 "metadata": {
  "kernelspec": {
   "display_name": "Python 3 (ipykernel)",
   "language": "python",
   "name": "python3"
  },
  "language_info": {
   "codemirror_mode": {
    "name": "ipython",
    "version": 3
   },
   "file_extension": ".py",
   "mimetype": "text/x-python",
   "name": "python",
   "nbconvert_exporter": "python",
   "pygments_lexer": "ipython3",
   "version": "3.8.11"
  }
 },
 "nbformat": 4,
 "nbformat_minor": 5
}
