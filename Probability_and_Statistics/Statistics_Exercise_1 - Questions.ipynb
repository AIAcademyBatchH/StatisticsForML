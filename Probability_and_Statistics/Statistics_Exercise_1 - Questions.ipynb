{
 "cells": [
  {
   "cell_type": "code",
   "execution_count": null,
   "metadata": {},
   "outputs": [],
   "source": [
    "# Questions:\n",
    "\n",
    "# 1. Define a function for computing median without using any python library, and use the same to locate the median of the \n",
    "# following data: [2,0,1,2,5,6]\n",
    "# 2. Read the Car_data and calculate the measures of central tendency for the price column\n",
    "# 3. Read the Sales_data and compute the variance and standard deviation. Also, determine the least consistent sales person.\n",
    "# 4. Determine the probability of choosing a car with rating 'A' from the Car_data\n",
    "# 5. In a manufacturing unit, the process has a defect rate of 7%. As part of the quality control process, you randomly \n",
    "# evaluate products in lots of 15. What is the probability of drawing more than 4 defective items from a random sample?"
   ]
  }
 ],
 "metadata": {
  "kernelspec": {
   "display_name": "Python 3",
   "language": "python",
   "name": "python3"
  },
  "language_info": {
   "codemirror_mode": {
    "name": "ipython",
    "version": 3
   },
   "file_extension": ".py",
   "mimetype": "text/x-python",
   "name": "python",
   "nbconvert_exporter": "python",
   "pygments_lexer": "ipython3",
   "version": "3.6.5"
  }
 },
 "nbformat": 4,
 "nbformat_minor": 5
}
