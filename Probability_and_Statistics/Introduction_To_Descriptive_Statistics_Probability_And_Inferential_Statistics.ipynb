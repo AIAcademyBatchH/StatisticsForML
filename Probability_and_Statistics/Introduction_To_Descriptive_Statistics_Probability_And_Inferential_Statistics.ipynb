{
 "cells": [
  {
   "cell_type": "markdown",
   "metadata": {},
   "source": [
    "###### Statistics\n",
    "\n",
    "- The discipline that concerns the collection, organization, analysis, interpretation, and presentation of data\n",
    "![alt text](https://sixsigmastudyguide.com/wp-content/uploads/2020/07/s2.png \"Types of Statistics\")\n",
    "\n",
    " \n",
    "\n",
    "#### Descriptive Statistics\n",
    "\n",
    "- Deals with methods of organizing, summarizing, and presenting data in a convenient and informative way\n",
    "- Different summary/descriptive statistics are:\n",
    "   1. Measures of central tendency - mean, median, mode\n",
    "   2. Measures of dispersion - range, variance, standard deviation\n",
    "   3. Measures of shape - skewness, kurtosis"
   ]
  },
  {
   "cell_type": "markdown",
   "metadata": {},
   "source": [
    "#### Measures of Central Tendency\n",
    "\n",
    "- A summary measure that attempts to describe a whole set of data with a single value that represents the middle or centre of its distribution\n",
    "- There are three main measures of central tendency: the mode, the median and the mean, each of which describes a different indication of the typical or central value in the distribution\n",
    "\n",
    "##### Mean\n",
    "- The total of the sum of all values in a collection of numbers divided by the number of numbers in a collection\n",
    "- $\\mu=\\frac{\\sum\\limits _{i=1} ^{N}x_{i}}{N}$\n",
    "\n",
    "##### Median\n",
    "- The middle number in a sorted, ascending or descending, list of numbers and can be more descriptive of that data set than the average\n",
    "- N is Odd: The observation that falls in the middle is the median \n",
    "- $(\\frac{n+1}{2})^{th}$ item\n",
    "- N is Even: Median is determined by averaging the two observations in the middle\n",
    "- $\\frac{(\\frac{n}{2}) ^{th} +(\\frac{n}{2}+1) ^{th} }{2}$ item\n",
    "\n",
    "##### Mode\n",
    "- Observation(s) that occurs with the greatest frequency in a dataset"
   ]
  },
  {
   "cell_type": "code",
   "execution_count": 1,
   "metadata": {},
   "outputs": [],
   "source": [
    "# Creating a list\n",
    "s1 = [17,4,33,2,51,23,3,41,18,2,4,2]"
   ]
  },
  {
   "cell_type": "code",
   "execution_count": 2,
   "metadata": {},
   "outputs": [
    {
     "data": {
      "text/plain": [
       "16.666666666666668"
      ]
     },
     "execution_count": 2,
     "metadata": {},
     "output_type": "execute_result"
    }
   ],
   "source": [
    "# Mean\n",
    "sum(s1)/len(s1)"
   ]
  },
  {
   "cell_type": "code",
   "execution_count": 3,
   "metadata": {},
   "outputs": [
    {
     "name": "stdout",
     "output_type": "stream",
     "text": [
      "16.666666666666668\n"
     ]
    }
   ],
   "source": [
    "# Alternative way to calculate mean\n",
    "from statistics import mean\n",
    "print(mean(s1))"
   ]
  },
  {
   "cell_type": "code",
   "execution_count": 4,
   "metadata": {},
   "outputs": [],
   "source": [
    "################################################"
   ]
  },
  {
   "cell_type": "code",
   "execution_count": 5,
   "metadata": {},
   "outputs": [],
   "source": [
    "# Median - N is even\n",
    "# Sorting the list\n",
    "s1.sort()"
   ]
  },
  {
   "cell_type": "code",
   "execution_count": 6,
   "metadata": {},
   "outputs": [
    {
     "data": {
      "text/plain": [
       "[2, 2, 2, 3, 4, 4, 17, 18, 23, 33, 41, 51]"
      ]
     },
     "execution_count": 6,
     "metadata": {},
     "output_type": "execute_result"
    }
   ],
   "source": [
    "s1"
   ]
  },
  {
   "cell_type": "code",
   "execution_count": 7,
   "metadata": {},
   "outputs": [
    {
     "data": {
      "text/plain": [
       "12"
      ]
     },
     "execution_count": 7,
     "metadata": {},
     "output_type": "execute_result"
    }
   ],
   "source": [
    "n = len(s1)\n",
    "n"
   ]
  },
  {
   "cell_type": "code",
   "execution_count": 8,
   "metadata": {},
   "outputs": [],
   "source": [
    "# Locating the two middle values using floor division operator\n",
    "median1 = s1[n//2]\n",
    "median2 = s1[n//2 - 1]                               \n",
    "median = (median1 + median2)/2"
   ]
  },
  {
   "cell_type": "code",
   "execution_count": 9,
   "metadata": {},
   "outputs": [
    {
     "name": "stdout",
     "output_type": "stream",
     "text": [
      "17\n"
     ]
    }
   ],
   "source": [
    "print(median1)"
   ]
  },
  {
   "cell_type": "code",
   "execution_count": 10,
   "metadata": {},
   "outputs": [
    {
     "name": "stdout",
     "output_type": "stream",
     "text": [
      "4\n"
     ]
    }
   ],
   "source": [
    "print(median2)"
   ]
  },
  {
   "cell_type": "code",
   "execution_count": 11,
   "metadata": {},
   "outputs": [
    {
     "name": "stdout",
     "output_type": "stream",
     "text": [
      "10.5\n"
     ]
    }
   ],
   "source": [
    "print(median)"
   ]
  },
  {
   "cell_type": "code",
   "execution_count": 12,
   "metadata": {},
   "outputs": [
    {
     "name": "stdout",
     "output_type": "stream",
     "text": [
      "10.5\n"
     ]
    }
   ],
   "source": [
    "# Alternative median calculation\n",
    "from statistics import median\n",
    "print(median(s1))"
   ]
  },
  {
   "cell_type": "code",
   "execution_count": 13,
   "metadata": {},
   "outputs": [],
   "source": [
    "# Median - N is odd\n",
    "s2 = [1,5,7,3,0]"
   ]
  },
  {
   "cell_type": "code",
   "execution_count": 14,
   "metadata": {},
   "outputs": [
    {
     "data": {
      "text/plain": [
       "[0, 1, 3, 5, 7]"
      ]
     },
     "execution_count": 14,
     "metadata": {},
     "output_type": "execute_result"
    }
   ],
   "source": [
    "s2.sort()\n",
    "s2"
   ]
  },
  {
   "cell_type": "code",
   "execution_count": 15,
   "metadata": {},
   "outputs": [
    {
     "data": {
      "text/plain": [
       "3"
      ]
     },
     "execution_count": 15,
     "metadata": {},
     "output_type": "execute_result"
    }
   ],
   "source": [
    "# Locate the value that lies in the middle of the sorted sample using floor division operator\n",
    "median = s2[len(s2)//2]\n",
    "median"
   ]
  },
  {
   "cell_type": "code",
   "execution_count": 16,
   "metadata": {},
   "outputs": [],
   "source": [
    "#####################################################"
   ]
  },
  {
   "cell_type": "code",
   "execution_count": 17,
   "metadata": {},
   "outputs": [],
   "source": [
    "# Mode\n",
    "s1 = [17,4,33,2,51,23,3,41,18,2,4,2]"
   ]
  },
  {
   "cell_type": "code",
   "execution_count": 18,
   "metadata": {},
   "outputs": [],
   "source": [
    "# Using collections.Counter class for counting objects\n",
    "# The Counter class provides a method defined as .most_common([n]) that returns a list of two-items tuples\n",
    "# with the n more common elements and their respective counts\n",
    "# If n is omitted or None, then .most_common() returns all of the elements"
   ]
  },
  {
   "cell_type": "code",
   "execution_count": 19,
   "metadata": {},
   "outputs": [
    {
     "data": {
      "text/plain": [
       "Counter({17: 1, 4: 2, 33: 1, 2: 3, 51: 1, 23: 1, 3: 1, 41: 1, 18: 1})"
      ]
     },
     "execution_count": 19,
     "metadata": {},
     "output_type": "execute_result"
    }
   ],
   "source": [
    "from collections import Counter\n",
    "c = Counter(s1)\n",
    "c"
   ]
  },
  {
   "cell_type": "code",
   "execution_count": 20,
   "metadata": {},
   "outputs": [
    {
     "data": {
      "text/plain": [
       "[2]"
      ]
     },
     "execution_count": 20,
     "metadata": {},
     "output_type": "execute_result"
    }
   ],
   "source": [
    "mode = [k for k, v in c.items() if v == c.most_common(1)[0][1]]\n",
    "mode"
   ]
  },
  {
   "cell_type": "code",
   "execution_count": 21,
   "metadata": {},
   "outputs": [],
   "source": [
    "# Breaking the code down"
   ]
  },
  {
   "cell_type": "code",
   "execution_count": 22,
   "metadata": {},
   "outputs": [
    {
     "data": {
      "text/plain": [
       "dict_items([(17, 1), (4, 2), (33, 1), (2, 3), (51, 1), (23, 1), (3, 1), (41, 1), (18, 1)])"
      ]
     },
     "execution_count": 22,
     "metadata": {},
     "output_type": "execute_result"
    }
   ],
   "source": [
    "c.items()"
   ]
  },
  {
   "cell_type": "code",
   "execution_count": 23,
   "metadata": {},
   "outputs": [
    {
     "data": {
      "text/plain": [
       "[(2, 3)]"
      ]
     },
     "execution_count": 23,
     "metadata": {},
     "output_type": "execute_result"
    }
   ],
   "source": [
    "c.most_common(1)    #returns a list with one tuple of the form (observation, count)"
   ]
  },
  {
   "cell_type": "code",
   "execution_count": 24,
   "metadata": {},
   "outputs": [
    {
     "data": {
      "text/plain": [
       "3"
      ]
     },
     "execution_count": 24,
     "metadata": {},
     "output_type": "execute_result"
    }
   ],
   "source": [
    "# Getting the count by accessing item at index 0 in the list and then the item at index 1 in the nested tuple\n",
    "c.most_common(1)[0][1]  "
   ]
  },
  {
   "cell_type": "code",
   "execution_count": 25,
   "metadata": {},
   "outputs": [
    {
     "name": "stdout",
     "output_type": "stream",
     "text": [
      "2\n"
     ]
    }
   ],
   "source": [
    "for k,v in c.items():\n",
    "    if v==c.most_common(1)[0][1]:    \n",
    "        print(k)"
   ]
  },
  {
   "cell_type": "code",
   "execution_count": 26,
   "metadata": {},
   "outputs": [
    {
     "name": "stdout",
     "output_type": "stream",
     "text": [
      "2\n"
     ]
    }
   ],
   "source": [
    "# Easier mode calculation\n",
    "from statistics import mode\n",
    "print(mode(s1))"
   ]
  },
  {
   "cell_type": "code",
   "execution_count": 27,
   "metadata": {},
   "outputs": [],
   "source": [
    "####################################################"
   ]
  },
  {
   "cell_type": "code",
   "execution_count": 28,
   "metadata": {},
   "outputs": [
    {
     "data": {
      "text/plain": [
       "2"
      ]
     },
     "execution_count": 28,
     "metadata": {},
     "output_type": "execute_result"
    }
   ],
   "source": [
    "# Minimum of the series\n",
    "min(s1)"
   ]
  },
  {
   "cell_type": "code",
   "execution_count": 29,
   "metadata": {},
   "outputs": [
    {
     "data": {
      "text/plain": [
       "51"
      ]
     },
     "execution_count": 29,
     "metadata": {},
     "output_type": "execute_result"
    }
   ],
   "source": [
    "# Maximum of the series\n",
    "max(s1)"
   ]
  },
  {
   "cell_type": "code",
   "execution_count": 30,
   "metadata": {},
   "outputs": [],
   "source": [
    "####################################################"
   ]
  },
  {
   "cell_type": "code",
   "execution_count": 31,
   "metadata": {},
   "outputs": [
    {
     "data": {
      "text/plain": [
       "(350, 1)"
      ]
     },
     "execution_count": 31,
     "metadata": {},
     "output_type": "execute_result"
    }
   ],
   "source": [
    "# Reading data into dataframe\n",
    "import pandas as pd\n",
    "df = pd.read_excel('data.xlsx',sheet_name='Amount')\n",
    "\n",
    "# Number of rows & cols\n",
    "df.shape"
   ]
  },
  {
   "cell_type": "code",
   "execution_count": 32,
   "metadata": {},
   "outputs": [
    {
     "data": {
      "text/html": [
       "<div>\n",
       "<style scoped>\n",
       "    .dataframe tbody tr th:only-of-type {\n",
       "        vertical-align: middle;\n",
       "    }\n",
       "\n",
       "    .dataframe tbody tr th {\n",
       "        vertical-align: top;\n",
       "    }\n",
       "\n",
       "    .dataframe thead th {\n",
       "        text-align: right;\n",
       "    }\n",
       "</style>\n",
       "<table border=\"1\" class=\"dataframe\">\n",
       "  <thead>\n",
       "    <tr style=\"text-align: right;\">\n",
       "      <th></th>\n",
       "      <th>Fr &amp; Veg</th>\n",
       "    </tr>\n",
       "  </thead>\n",
       "  <tbody>\n",
       "    <tr>\n",
       "      <th>0</th>\n",
       "      <td>625</td>\n",
       "    </tr>\n",
       "    <tr>\n",
       "      <th>1</th>\n",
       "      <td>354</td>\n",
       "    </tr>\n",
       "    <tr>\n",
       "      <th>2</th>\n",
       "      <td>577</td>\n",
       "    </tr>\n",
       "    <tr>\n",
       "      <th>3</th>\n",
       "      <td>570</td>\n",
       "    </tr>\n",
       "    <tr>\n",
       "      <th>4</th>\n",
       "      <td>664</td>\n",
       "    </tr>\n",
       "  </tbody>\n",
       "</table>\n",
       "</div>"
      ],
      "text/plain": [
       "   Fr & Veg\n",
       "0       625\n",
       "1       354\n",
       "2       577\n",
       "3       570\n",
       "4       664"
      ]
     },
     "execution_count": 32,
     "metadata": {},
     "output_type": "execute_result"
    }
   ],
   "source": [
    "# First 5 obs\n",
    "df.head()"
   ]
  },
  {
   "cell_type": "code",
   "execution_count": 33,
   "metadata": {},
   "outputs": [
    {
     "data": {
      "text/plain": [
       "Fr & Veg    519.2\n",
       "dtype: float64"
      ]
     },
     "execution_count": 33,
     "metadata": {},
     "output_type": "execute_result"
    }
   ],
   "source": [
    "# Average amount spent on Fruits and Vegatables\n",
    "df.mean()"
   ]
  },
  {
   "cell_type": "code",
   "execution_count": 34,
   "metadata": {},
   "outputs": [
    {
     "data": {
      "text/plain": [
       "Fr & Veg    523.0\n",
       "dtype: float64"
      ]
     },
     "execution_count": 34,
     "metadata": {},
     "output_type": "execute_result"
    }
   ],
   "source": [
    "# Median\n",
    "df.median() #Half of the families are spending <=523 "
   ]
  },
  {
   "cell_type": "code",
   "execution_count": 35,
   "metadata": {},
   "outputs": [
    {
     "data": {
      "text/html": [
       "<div>\n",
       "<style scoped>\n",
       "    .dataframe tbody tr th:only-of-type {\n",
       "        vertical-align: middle;\n",
       "    }\n",
       "\n",
       "    .dataframe tbody tr th {\n",
       "        vertical-align: top;\n",
       "    }\n",
       "\n",
       "    .dataframe thead th {\n",
       "        text-align: right;\n",
       "    }\n",
       "</style>\n",
       "<table border=\"1\" class=\"dataframe\">\n",
       "  <thead>\n",
       "    <tr style=\"text-align: right;\">\n",
       "      <th></th>\n",
       "      <th>Fr &amp; Veg</th>\n",
       "    </tr>\n",
       "  </thead>\n",
       "  <tbody>\n",
       "    <tr>\n",
       "      <th>0</th>\n",
       "      <td>459</td>\n",
       "    </tr>\n",
       "    <tr>\n",
       "      <th>1</th>\n",
       "      <td>492</td>\n",
       "    </tr>\n",
       "    <tr>\n",
       "      <th>2</th>\n",
       "      <td>511</td>\n",
       "    </tr>\n",
       "    <tr>\n",
       "      <th>3</th>\n",
       "      <td>544</td>\n",
       "    </tr>\n",
       "    <tr>\n",
       "      <th>4</th>\n",
       "      <td>584</td>\n",
       "    </tr>\n",
       "    <tr>\n",
       "      <th>5</th>\n",
       "      <td>606</td>\n",
       "    </tr>\n",
       "  </tbody>\n",
       "</table>\n",
       "</div>"
      ],
      "text/plain": [
       "   Fr & Veg\n",
       "0       459\n",
       "1       492\n",
       "2       511\n",
       "3       544\n",
       "4       584\n",
       "5       606"
      ]
     },
     "execution_count": 35,
     "metadata": {},
     "output_type": "execute_result"
    }
   ],
   "source": [
    "# Mode\n",
    "df.mode()"
   ]
  },
  {
   "cell_type": "code",
   "execution_count": 36,
   "metadata": {},
   "outputs": [
    {
     "data": {
      "text/plain": [
       "606    4\n",
       "511    4\n",
       "459    4\n",
       "492    4\n",
       "544    4\n",
       "584    4\n",
       "Name: Fr & Veg, dtype: int64"
      ]
     },
     "execution_count": 36,
     "metadata": {},
     "output_type": "execute_result"
    }
   ],
   "source": [
    "df['Fr & Veg'].value_counts().head(6)"
   ]
  },
  {
   "cell_type": "markdown",
   "metadata": {},
   "source": [
    "#### Measures of Variability/Dispersion\n",
    "- Measure of spread of data\n",
    "- Measures of dispersion are:\n",
    "   1. Range\n",
    "   2. Variance\n",
    "   3. Standard deviation\n",
    "   \n",
    "###### Range\n",
    "-  Difference between the highest and lowest values in a data series, that is Largest obs-Smallest obs\n",
    "\n",
    "###### Variance\n",
    "- Measure of variability from the mean of a data series\n",
    "- Calculated by taking the average of squared deviations from the mean\n",
    "- How far each observation is from mean; these differences from the mean are called deviations\n",
    "- $\\sigma ^{2}=\\frac{\\sum\\limits _{i=1} ^{N}(x_{i}-\\mu) ^{2}}{N}$ \n",
    "\n",
    "###### Standard Deviation\n",
    "- Measure of the amount of variation or dispersion of a set of values or data\n",
    "- Calculated as the square root of variance"
   ]
  },
  {
   "cell_type": "code",
   "execution_count": 37,
   "metadata": {},
   "outputs": [
    {
     "data": {
      "text/plain": [
       "<AxesSubplot:ylabel='Frequency'>"
      ]
     },
     "execution_count": 37,
     "metadata": {},
     "output_type": "execute_result"
    },
    {
     "data": {
      "image/png": "[encoded data removed]",
      "text/plain": [
       "<Figure size 432x288 with 1 Axes>"
      ]
     },
     "metadata": {
      "needs_background": "light"
     },
     "output_type": "display_data"
    }
   ],
   "source": [
    "# Exploring the distribution of the fruits & veg col\n",
    "df.plot.hist(by='Fr & Veg')"
   ]
  },
  {
   "cell_type": "code",
   "execution_count": 38,
   "metadata": {},
   "outputs": [
    {
     "data": {
      "text/plain": [
       "Fr & Veg    15054.26361\n",
       "dtype: float64"
      ]
     },
     "execution_count": 38,
     "metadata": {},
     "output_type": "execute_result"
    }
   ],
   "source": [
    "# Variance\n",
    "df.var()"
   ]
  },
  {
   "cell_type": "code",
   "execution_count": 39,
   "metadata": {},
   "outputs": [
    {
     "data": {
      "text/plain": [
       "Fr & Veg    122.695817\n",
       "dtype: float64"
      ]
     },
     "execution_count": 39,
     "metadata": {},
     "output_type": "execute_result"
    }
   ],
   "source": [
    "# Std deviation\n",
    "df.std()"
   ]
  },
  {
   "cell_type": "code",
   "execution_count": 40,
   "metadata": {},
   "outputs": [],
   "source": [
    "########################################################################"
   ]
  },
  {
   "cell_type": "code",
   "execution_count": 41,
   "metadata": {},
   "outputs": [
    {
     "data": {
      "text/html": [
       "<div>\n",
       "<style scoped>\n",
       "    .dataframe tbody tr th:only-of-type {\n",
       "        vertical-align: middle;\n",
       "    }\n",
       "\n",
       "    .dataframe tbody tr th {\n",
       "        vertical-align: top;\n",
       "    }\n",
       "\n",
       "    .dataframe thead th {\n",
       "        text-align: right;\n",
       "    }\n",
       "</style>\n",
       "<table border=\"1\" class=\"dataframe\">\n",
       "  <thead>\n",
       "    <tr style=\"text-align: right;\">\n",
       "      <th></th>\n",
       "      <th>Deal</th>\n",
       "      <th>SP1</th>\n",
       "      <th>SP2</th>\n",
       "      <th>SP3</th>\n",
       "    </tr>\n",
       "  </thead>\n",
       "  <tbody>\n",
       "    <tr>\n",
       "      <th>0</th>\n",
       "      <td>D1</td>\n",
       "      <td>150000</td>\n",
       "      <td>105000</td>\n",
       "      <td>65000</td>\n",
       "    </tr>\n",
       "    <tr>\n",
       "      <th>1</th>\n",
       "      <td>D2</td>\n",
       "      <td>25000</td>\n",
       "      <td>110000</td>\n",
       "      <td>50000</td>\n",
       "    </tr>\n",
       "    <tr>\n",
       "      <th>2</th>\n",
       "      <td>D3</td>\n",
       "      <td>300000</td>\n",
       "      <td>130000</td>\n",
       "      <td>70000</td>\n",
       "    </tr>\n",
       "    <tr>\n",
       "      <th>3</th>\n",
       "      <td>D4</td>\n",
       "      <td>48000</td>\n",
       "      <td>110000</td>\n",
       "      <td>150000</td>\n",
       "    </tr>\n",
       "    <tr>\n",
       "      <th>4</th>\n",
       "      <td>D5</td>\n",
       "      <td>55000</td>\n",
       "      <td>123000</td>\n",
       "      <td>243000</td>\n",
       "    </tr>\n",
       "  </tbody>\n",
       "</table>\n",
       "</div>"
      ],
      "text/plain": [
       "  Deal     SP1     SP2     SP3\n",
       "0   D1  150000  105000   65000\n",
       "1   D2   25000  110000   50000\n",
       "2   D3  300000  130000   70000\n",
       "3   D4   48000  110000  150000\n",
       "4   D5   55000  123000  243000"
      ]
     },
     "execution_count": 41,
     "metadata": {},
     "output_type": "execute_result"
    }
   ],
   "source": [
    "# Loading sales data\n",
    "deals = pd.read_excel('data.xlsx',sheet_name='Sales')\n",
    "deals"
   ]
  },
  {
   "cell_type": "code",
   "execution_count": 42,
   "metadata": {},
   "outputs": [
    {
     "data": {
      "text/plain": [
       "SP1    578000\n",
       "SP2    578000\n",
       "SP3    578000\n",
       "dtype: int64"
      ]
     },
     "execution_count": 42,
     "metadata": {},
     "output_type": "execute_result"
    }
   ],
   "source": [
    "# Which sales person is more consistent\n",
    "deals.drop('Deal',axis=1).sum() \n",
    "\n",
    "#axis=0 look for the value horizontally/rows\n",
    "#axis=1 look for the value vertically/columns"
   ]
  },
  {
   "cell_type": "code",
   "execution_count": 43,
   "metadata": {},
   "outputs": [
    {
     "data": {
      "text/plain": [
       "SP1    113619.100507\n",
       "SP2     10454.664031\n",
       "SP3     81174.503386\n",
       "dtype: float64"
      ]
     },
     "execution_count": 43,
     "metadata": {},
     "output_type": "execute_result"
    }
   ],
   "source": [
    "deals.drop('Deal',axis=1).std()"
   ]
  },
  {
   "cell_type": "code",
   "execution_count": 44,
   "metadata": {},
   "outputs": [
    {
     "data": {
      "text/plain": [
       "SP1    115600.0\n",
       "SP2    115600.0\n",
       "SP3    115600.0\n",
       "dtype: float64"
      ]
     },
     "execution_count": 44,
     "metadata": {},
     "output_type": "execute_result"
    }
   ],
   "source": [
    "deals.drop('Deal',axis=1).mean()"
   ]
  },
  {
   "cell_type": "markdown",
   "metadata": {},
   "source": [
    "Since the average and total sales amount for each of the sales person is the same, we may conclude from std dev metric that SP2 is more consistent than the rest due to the low std dev"
   ]
  },
  {
   "cell_type": "code",
   "execution_count": 45,
   "metadata": {},
   "outputs": [
    {
     "data": {
      "text/plain": [
       "Fr & Veg    678\n",
       "dtype: int64"
      ]
     },
     "execution_count": 45,
     "metadata": {},
     "output_type": "execute_result"
    }
   ],
   "source": [
    "# Range\n",
    "df.max()-df.min()"
   ]
  },
  {
   "cell_type": "markdown",
   "metadata": {},
   "source": [
    "##### Quartiles\n",
    "\n",
    "- Set of values that divide a dataset into quarters\n",
    "- Median of a dataset is the 2nd quartile\n",
    "\n",
    "##### IQR\n",
    "\n",
    "- Difference between 3rd and 1st quartiles"
   ]
  },
  {
   "cell_type": "code",
   "execution_count": 46,
   "metadata": {},
   "outputs": [
    {
     "data": {
      "text/plain": [
       "Fr & Veg    444.75\n",
       "Name: 0.25, dtype: float64"
      ]
     },
     "execution_count": 46,
     "metadata": {},
     "output_type": "execute_result"
    }
   ],
   "source": [
    "#Quartiles - 25% - 50% - 75%\n",
    "df.quantile(0.25) # Q1 - lower quartile"
   ]
  },
  {
   "cell_type": "code",
   "execution_count": 47,
   "metadata": {},
   "outputs": [
    {
     "data": {
      "text/plain": [
       "Fr & Veg    523.0\n",
       "Name: 0.5, dtype: float64"
      ]
     },
     "execution_count": 47,
     "metadata": {},
     "output_type": "execute_result"
    }
   ],
   "source": [
    "df.quantile(0.5) # Q2 - second quartile/median"
   ]
  },
  {
   "cell_type": "code",
   "execution_count": 48,
   "metadata": {},
   "outputs": [
    {
     "data": {
      "text/plain": [
       "Fr & Veg    603.5\n",
       "Name: 0.75, dtype: float64"
      ]
     },
     "execution_count": 48,
     "metadata": {},
     "output_type": "execute_result"
    }
   ],
   "source": [
    "df.quantile(0.75) # Q3 - upper quartile"
   ]
  },
  {
   "cell_type": "code",
   "execution_count": 49,
   "metadata": {},
   "outputs": [
    {
     "data": {
      "text/plain": [
       "Fr & Veg    158.75\n",
       "dtype: float64"
      ]
     },
     "execution_count": 49,
     "metadata": {},
     "output_type": "execute_result"
    }
   ],
   "source": [
    "# IQR\n",
    "df.quantile(0.75) -df.quantile(0.25)"
   ]
  },
  {
   "cell_type": "code",
   "execution_count": 50,
   "metadata": {},
   "outputs": [],
   "source": [
    "# If mean=median=mode then the data is said to be symmetric or normally distributed"
   ]
  },
  {
   "cell_type": "markdown",
   "metadata": {},
   "source": [
    "##### Three Sigma Rule\n",
    "- Approximately 68% of all observations fall within one standard deviation of the mean. (mean+-1std)\n",
    "- Approximately 95% of all observations fall within two standard deviations of the mean. (mean+-2std)\n",
    "- Approximately 99.7% of all observations fall within three standard deviations of the mean. (mean+-3std)"
   ]
  },
  {
   "cell_type": "markdown",
   "metadata": {},
   "source": [
    "#### Measures Of Shape\n",
    "- Describes the distribution/pattern of the data\n",
    "- Distributions may be categorised into symmetrical distribution and asymmetrical distribution\n",
    "- Symmetrical distribution: two sides of the distribution are a mirror images of each other\n",
    "- Asymmetric distribution: the two sides of a distribution do not mirror each other if the collected sample data is systematically biased and includes data points that have certain particular characteristics\n",
    "- Measures of shape are:\n",
    "  1. Skewness\n",
    "  2. Kurtosis\n",
    "  \n",
    "##### Skewness\n",
    "- Measure of the asymmetry of the probability distribution of a real-valued random variable about its mean\n",
    "- The skewness value can be positive, zero, negative, or undefined\n",
    "- Positive skewed distribution: the mean of the distribution is higher than the median; most of the scores occur at the lower end of the distribution while few scores are at the higher end\n",
    "- Negative skewed distribution: the median of the distribution is higher than the mean; most of the scores occur at the higher end of the distribution while few scores are at the lower end\n",
    "\n",
    "##### Kurtosis\n",
    "- A measure of the combined weight of a distribution's tails relative to the center of the distribution\n",
    "- Measures sharpness of the peak of the distribution\n",
    "- A high kurtosis distribution has a sharp peak and fat tails\n",
    "- A low kurtosis distribution has a flat peak and thin tails"
   ]
  },
  {
   "cell_type": "code",
   "execution_count": 51,
   "metadata": {},
   "outputs": [
    {
     "data": {
      "text/plain": [
       "<AxesSubplot:ylabel='Frequency'>"
      ]
     },
     "execution_count": 51,
     "metadata": {},
     "output_type": "execute_result"
    },
    {
     "data": {
      "image/png": "[encoded data removed]",
      "text/plain": [
       "<Figure size 432x288 with 1 Axes>"
      ]
     },
     "metadata": {
      "needs_background": "light"
     },
     "output_type": "display_data"
    }
   ],
   "source": [
    "# Revisiting the distribution of the fruits & veg col\n",
    "df.plot.hist(by='Fr & Veg')"
   ]
  },
  {
   "cell_type": "code",
   "execution_count": 52,
   "metadata": {},
   "outputs": [
    {
     "data": {
      "text/plain": [
       "-0.04477204149790183"
      ]
     },
     "execution_count": 52,
     "metadata": {},
     "output_type": "execute_result"
    }
   ],
   "source": [
    "# Skewness\n",
    "df['Fr & Veg'].skew()"
   ]
  },
  {
   "cell_type": "markdown",
   "metadata": {},
   "source": [
    "**SciPy is a third-party library for scientific computing based on NumPy. It offers additional functionality compared to NumPy, including scipy.stats for statistical analysis.**"
   ]
  },
  {
   "cell_type": "code",
   "execution_count": 53,
   "metadata": {},
   "outputs": [],
   "source": [
    "# pip install scipy"
   ]
  },
  {
   "cell_type": "code",
   "execution_count": 54,
   "metadata": {},
   "outputs": [
    {
     "data": {
      "text/plain": [
       "-0.12906876782921373"
      ]
     },
     "execution_count": 54,
     "metadata": {},
     "output_type": "execute_result"
    }
   ],
   "source": [
    "# Kurtosis\n",
    "from scipy.stats import kurtosis\n",
    "kurtosis(df['Fr & Veg'])"
   ]
  },
  {
   "cell_type": "markdown",
   "metadata": {},
   "source": [
    "#### Basics of Probability\n",
    "- Random Experiment: An action that leads to one of several possible outcomes; for eg., tossing a coin\n",
    "- Event: An event is the outcome of an experience; eg., Head\n",
    "- Trial: Each time a random experiment is conducted, it is called a trial\n",
    "- Sample Space: A list of all possible outcomes of an experiment; eg., {H,T} for coin toss"
   ]
  },
  {
   "cell_type": "markdown",
   "metadata": {},
   "source": [
    "##### Probability\n",
    "- How likely is that an event can occur\n",
    "\n",
    "Let A be an event\n",
    "- P(A) = Favorable number of events/total number of events\n",
    "- 0<=P(A)<=1"
   ]
  },
  {
   "cell_type": "markdown",
   "metadata": {},
   "source": [
    "###### Random Variable \n",
    "- A variable whose possible values depend on the outcomes of a certain random phenomenon\n",
    "- Ex: 1 head or 1 tail, 2 heads"
   ]
  },
  {
   "cell_type": "code",
   "execution_count": 55,
   "metadata": {},
   "outputs": [
    {
     "name": "stdout",
     "output_type": "stream",
     "text": [
      "0.5\n"
     ]
    }
   ],
   "source": [
    "#1. Three unbiased coins are tossed then chances of seeing more than one head\n",
    "S = ['HHH','HHT','HTH','THH','HTT','THT','TTH','TTT']\n",
    "A = ['HHH','HHT','HTH','THH']\n",
    "P = len(A)/len(S)\n",
    "print(P)"
   ]
  },
  {
   "cell_type": "code",
   "execution_count": 56,
   "metadata": {},
   "outputs": [
    {
     "name": "stdout",
     "output_type": "stream",
     "text": [
      "0.125\n"
     ]
    }
   ],
   "source": [
    "#2. Probability of 3 heads\n",
    "B = ['HHH']\n",
    "P = len(B)/len(S)\n",
    "print(P)"
   ]
  },
  {
   "cell_type": "code",
   "execution_count": 57,
   "metadata": {},
   "outputs": [
    {
     "name": "stdout",
     "output_type": "stream",
     "text": [
      "0.5\n"
     ]
    }
   ],
   "source": [
    "# Probability of drawing a black card from a deck of cards\n",
    "cards = 52\n",
    "black_cards = 26\n",
    "P_black = black_cards/cards\n",
    "print(P_black)"
   ]
  },
  {
   "cell_type": "markdown",
   "metadata": {},
   "source": [
    "##### Discrete and Continuous Random Variable\n",
    "- Discrete Random Variable: countable number of values in a finite amount of time; eg., customers in a queue, products added to cart\n",
    "- Continuous Random Variable: whose values are uncountable or infinite; eg., amount of time to complete a task"
   ]
  },
  {
   "cell_type": "markdown",
   "metadata": {},
   "source": [
    "#### Probability Distribution\n",
    "\n",
    "- A statistical function that describes all the possible values and likelihoods that a random variable can take within a given range\n",
    "- The sum of all probabilities for all possible values must equal 1; the probability for a particular value or range of values must be between 0 and 1\n",
    "- May be discrete or continuous\n",
    "\n",
    "##### Discrete Probability Distribution\n",
    "\n",
    "- A function that can assume a discrete number of values\n",
    "- Each possible value has a non-zero likelihood\n",
    "- Types of discrete distributions:\n",
    "   1. Binomial or Bernoulli\n",
    "   2. Negative Binomial\n",
    "   3. Geometric\n",
    "   4. Poisson "
   ]
  },
  {
   "cell_type": "markdown",
   "metadata": {},
   "source": [
    "##### Binomial Distribution\n",
    "\n",
    "- Binomial distribution with parameters n and p is the discrete probability distribution of the `number of successes in a sequence of n independent experiments`, each asking a yes–no question, and each with its own boolean-valued outcome - success or failure\n",
    "- Features:\n",
    "   1. The number of observations or trials is fixed\n",
    "   2. Each observation or trial is independent\n",
    "   3. The probability of success is exactly the same from one trial to another\n"
   ]
  },
  {
   "cell_type": "markdown",
   "metadata": {},
   "source": [
    "##### Probability of definite no. of successes in certain no. of trials\n",
    "\n",
    "The random chance probability of seeing exactly r successes in n Bernoulli trials, when the probability of success on any trial is p, is calculated using probability mass function (PMF)  "
   ]
  },
  {
   "cell_type": "code",
   "execution_count": 58,
   "metadata": {},
   "outputs": [
    {
     "name": "stdout",
     "output_type": "stream",
     "text": [
      "Probability of getting 4 heads in 10 trials of coin tossing:  0.205\n"
     ]
    }
   ],
   "source": [
    "# Probability of getting 4 heads while tossing a coin 10 times\n",
    "\n",
    "from scipy.stats import binom\n",
    "n = 10                                     #no. of trials\n",
    "p = 0.5                                    #probability of getting head\n",
    "r = 4                                      #no. of successful outcomes, i.e., head\n",
    "dist = binom.pmf(r,n,p)\n",
    "print(\"Probability of getting 4 heads in 10 trials of coin tossing: \", round(dist,3))"
   ]
  },
  {
   "cell_type": "code",
   "execution_count": 59,
   "metadata": {},
   "outputs": [
    {
     "name": "stdout",
     "output_type": "stream",
     "text": [
      "Probability of drawing 2 defects from a lot of 10 items:  0.194\n"
     ]
    }
   ],
   "source": [
    "# Quality Control - In a manufacturing unit, the process has a defect rate of 10%. As part of the QC process, \n",
    "# you randomly evaluate products in lots of 10. \n",
    "# Supposing from a random lot you get 2 defects, how likely is this outcome due to random chance?\n",
    "\n",
    "n = 10                                     #no. of items in each lot\n",
    "p = 0.1                                    #defect rate\n",
    "r = 2                                      #no. of defects drawn\n",
    "dist = binom.pmf(r,n,p)\n",
    "print(\"Probability of drawing 2 defects from a lot of 10 items: \", round(dist,3))\n"
   ]
  },
  {
   "cell_type": "markdown",
   "metadata": {},
   "source": [
    "##### Cumulative Probability\n",
    "\n",
    "- Probability that a random variable falls within a specified range, i.e., the random variable value is less than or equal to a specified value\n",
    "- The binomial cumulative distribution function lets you obtain the probability of observing less than or equal to r successes in n trials, with the probability p of success on a single trial"
   ]
  },
  {
   "cell_type": "code",
   "execution_count": 60,
   "metadata": {},
   "outputs": [],
   "source": [
    "# Q: As Finance Manager you are reviewing AR balances\n",
    "# Based on past data, on average 40% of customers are more than 60 days late with payments\n",
    "# Assuming a total of 150 customers, you want to create a contingency where more than 50% of customers are late\n",
    "# The size of the contingency fund is directly proportional to the probability of more than 50% of customers being late\n",
    "# You need a sense of the likelihood of more than 50% being late in any given month\n",
    "\n",
    "# Probability of > 50% of customers being late in any month? \n",
    "\n",
    "# A: Probability of seeing > 50% of customers being late = Probability of seeing > 75 customers being late\n",
    "#                                                        =  1 - Probability of seeing <= 75 customers being late"
   ]
  },
  {
   "cell_type": "code",
   "execution_count": 61,
   "metadata": {},
   "outputs": [
    {
     "name": "stdout",
     "output_type": "stream",
     "text": [
      "Probability of more than 50% customers being late:  0.005\n"
     ]
    }
   ],
   "source": [
    "n = 150                              #total customers\n",
    "p = 0.4                              #probability of custoemrs being late in payments\n",
    "r = 75\n",
    "a = 1 - binom.cdf(75,150,0.4)\n",
    "print(\"Probability of more than 50% customers being late: \", round(a,3))"
   ]
  },
  {
   "cell_type": "markdown",
   "metadata": {},
   "source": [
    "##### Hypergeometric Distribution\n",
    "\n",
    "A discrete probability distribution that describes the `probability of 'k' successes` (random draws for which the object drawn has a specified feature) in 'n' draws, `without replacement`, from a finite population of size 'N' that contains exactly 'K' objects with that feature, wherein each draw is either a success or a failure"
   ]
  },
  {
   "cell_type": "code",
   "execution_count": 62,
   "metadata": {},
   "outputs": [],
   "source": [
    "# Example: HR Policies and Diversity\n",
    "# A company wants to encourage diversity in its management ranks \n",
    "# Of the 18 employees eligible for promotion into middle management, 9 are women\n",
    "# The promotions are announced - 8 are promoted\n",
    "# What's the probability of 3 women being promoted? "
   ]
  },
  {
   "cell_type": "code",
   "execution_count": 63,
   "metadata": {},
   "outputs": [
    {
     "name": "stdout",
     "output_type": "stream",
     "text": [
      "Probability of 3 women being promoted:  0.242\n"
     ]
    }
   ],
   "source": [
    "from scipy.stats import hypergeom\n",
    "N = 18                                 #total employees eligible for promotion\n",
    "n = 8                                  #no. of promotions\n",
    "K = 9                                  #no. of women eligible for promotion\n",
    "k = 3                                  #no. of women actually promoted whose probability we've to find\n",
    "prob_hyp = hypergeom.pmf(k,N,K,n)\n",
    "print(\"Probability of 3 women being promoted: \", round(prob_hyp,3))"
   ]
  },
  {
   "cell_type": "markdown",
   "metadata": {},
   "source": [
    "##### Negative Binomial Distribution\n",
    "\n",
    "- A discrete probability distribution that models the `number of successes` in a sequence of independent and identically distributed Bernoulli trials `before a specified (non-random) number of failures (denoted 'r') occurs`\n",
    "- Differs from binomial distribution in that the number of trials are not fixed and the random variable in question is the number of trials needed to make 'r' successes"
   ]
  },
  {
   "cell_type": "code",
   "execution_count": 64,
   "metadata": {},
   "outputs": [
    {
     "name": "stdout",
     "output_type": "stream",
     "text": [
      "Probability of 100th purchase happening with 30th customer:  0.0016\n"
     ]
    }
   ],
   "source": [
    "# Example: What is the probability that the 100th purchase in my store will happen with the 30th customer,\n",
    "# when the probability of purchase for any customer is 20%?\n",
    "\n",
    "from scipy.stats import nbinom\n",
    "n = 70                                         #no. of trials resulting in failures\n",
    "r = 30                                         #no. of specified successes\n",
    "p = 0.2                                        #probability of success in a single trial\n",
    "prob_nbinom = nbinom.pmf(n,r,p)\n",
    "print(\"Probability of 100th purchase happening with 30th customer: \", round(prob_nbinom,4))"
   ]
  },
  {
   "cell_type": "markdown",
   "metadata": {},
   "source": [
    "##### Geometric Distribution\n",
    "\n",
    "- Distribution representing the number of failures before you get a success in a series of Bernoulli trials\n",
    "- The assumptions of this distribution are:\n",
    "   1. There are two possible outcomes for each trial (success or failure)\n",
    "   2. The trials are independent\n",
    "   3. The probability of success is the same for each trial\n"
   ]
  },
  {
   "cell_type": "code",
   "execution_count": 65,
   "metadata": {},
   "outputs": [],
   "source": [
    "# Example: Suppose there is a defect rate of 2% with some mechanical component being produced\n",
    "# What is the probability that a QC Inspector will need to review at most 20 items before finding a defect? \n",
    "\n",
    "# Solution: P(reviewing at most 20 items)  =   P(x<=20)\n",
    "# Here we use cumulative function to solve the problem "
   ]
  },
  {
   "cell_type": "code",
   "execution_count": 66,
   "metadata": {},
   "outputs": [
    {
     "name": "stdout",
     "output_type": "stream",
     "text": [
      "Probability of reviewing at most 20 items before finding a defect:  0.3324\n"
     ]
    }
   ],
   "source": [
    "from scipy.stats import geom\n",
    "x = 20                                          #no. of items reviewed before encountering a defective one\n",
    "p = 0.02                                        #probability of getting defective piece\n",
    "dist = geom.cdf(x,p)\n",
    "print(\"Probability of reviewing at most 20 items before finding a defect: \", round(dist,4))"
   ]
  },
  {
   "cell_type": "markdown",
   "metadata": {},
   "source": [
    "##### Poisson Distribution\n",
    "- A discrete probability distribution that expresses the probability of a given number of events occurring in a fixed interval of time or space, if these events occur with a known constant mean rate and independently of the time since the last event\n",
    "- Used by business organizations to make forecasts about the number of customers or sales on certain days or seasons of the year\n",
    "- Conditions to be satisfied are:\n",
    "   1. Events have to be counted as whole numbers\n",
    "   2. Events are independent so if one event occurs, it does not impact the chances of the second event occurring\n",
    "   3. Average frequency of occurrence for the given time period is known\n",
    "   4. Number of events that have already occurred can be counted"
   ]
  },
  {
   "cell_type": "code",
   "execution_count": 67,
   "metadata": {},
   "outputs": [],
   "source": [
    "# Example: Call Centre Management\n",
    "# You are a Manager in a call center with a staff of 55 people, who on average handle 330 calls in an hour\n",
    "# A holiday is coming up and 5 resources want leave\n",
    "# You estimate the 50 remaining resources can manage 20% greater calls, \n",
    "# but want to plan for the chance of greater than 20% increased call volume\n",
    "# What are the chances that number of calls on that day will go up by 20%? \n",
    "\n",
    "# Solution:\n",
    "# λ = (330)/55 = 6 calls an hour\n",
    "# 20% greater calls with 5 less resources = (330 * 1.2)/50 = 7.2 (~7) calls an hour\n",
    "# P(calls going up by 20%) = P(x>7)"
   ]
  },
  {
   "cell_type": "code",
   "execution_count": 68,
   "metadata": {},
   "outputs": [
    {
     "name": "stdout",
     "output_type": "stream",
     "text": [
      "Probability of calls going up by 20%:  0.153\n"
     ]
    }
   ],
   "source": [
    "from scipy.stats import poisson\n",
    "m = 6\n",
    "x = 8\n",
    "dist = 1 - poisson.cdf(x,m)\n",
    "print(\"Probability of calls going up by 20%: \", round(dist,3))"
   ]
  },
  {
   "cell_type": "code",
   "execution_count": 69,
   "metadata": {},
   "outputs": [],
   "source": [
    "# At an ATM machine in a particular location, a bank notes that there an average of 80 withdrawals a day,\n",
    "# with an average transaction amount of $40\n",
    "# The bank needs to stock the ATM machine with appropriate levels of cash\n",
    "# Assuming that they start with a zero balance, what is the most appropriate amount of cash\n",
    "# that needs to be stocked, for a 4 day period?\n",
    "# A customer service KRA is to keep customer complaints to less than 10%"
   ]
  },
  {
   "cell_type": "code",
   "execution_count": 70,
   "metadata": {},
   "outputs": [
    {
     "name": "stdout",
     "output_type": "stream",
     "text": [
      "Probability of 80 withdrawals on a day:  0.47\n",
      "Probability of 85 withdrawals a day:  0.265\n",
      "Probability of 90 withdrawals a day:  0.121\n",
      "Probability of 91 withdrawals a day:  0.101\n",
      "Probability of 92 withdrawals a day:  0.084\n",
      "Probability of 95 withdrawals a day:  0.045\n",
      "Probability of 100 withdrawals a day:  0.013\n"
     ]
    }
   ],
   "source": [
    "# Calculating probability of possible withdrawals using poisson dist\n",
    "\n",
    "m = 80\n",
    "x1 = 80\n",
    "P1 = 1 - poisson.cdf(x1,m)\n",
    "print(\"Probability of 80 withdrawals on a day: \", round(P1,3))\n",
    "\n",
    "x2 = 85\n",
    "P2 = 1 - poisson.cdf(x2,m)\n",
    "print(\"Probability of 85 withdrawals a day: \", round(P2,3))\n",
    "\n",
    "x3 = 90\n",
    "P3 = 1 - poisson.cdf(x3,m)\n",
    "print(\"Probability of 90 withdrawals a day: \", round(P3,3))\n",
    "\n",
    "x4 = 91\n",
    "P4 = 1 - poisson.cdf(x4,m)\n",
    "print(\"Probability of 91 withdrawals a day: \", round(P4,3))\n",
    "\n",
    "x5 = 92\n",
    "P5 = 1 - poisson.cdf(x5,m)\n",
    "print(\"Probability of 92 withdrawals a day: \", round(P5,3))\n",
    "\n",
    "x6 = 95\n",
    "P6 = 1 - poisson.cdf(x6,m)\n",
    "print(\"Probability of 95 withdrawals a day: \", round(P6,3))\n",
    "\n",
    "x7 = 100\n",
    "P7 = 1 - poisson.cdf(x7,m)\n",
    "print(\"Probability of 100 withdrawals a day: \", round(P7,3))"
   ]
  },
  {
   "cell_type": "code",
   "execution_count": 71,
   "metadata": {},
   "outputs": [
    {
     "name": "stdout",
     "output_type": "stream",
     "text": [
      "The most appropriate amount of cash that needs to be stocked for a 4 day period:  14560\n"
     ]
    }
   ],
   "source": [
    "# Customer complaints to be kept <10%\n",
    "# ATM must be stocked with cash enough for 91 withdrawals per day\n",
    "# Calculating amount of cash required for 4 day stocking\n",
    "\n",
    "avg_amount = 40\n",
    "amount_stock = x4 * avg_amount * 4\n",
    "print(\"The most appropriate amount of cash that needs to be stocked for a 4 day period: \", amount_stock)"
   ]
  },
  {
   "cell_type": "markdown",
   "metadata": {},
   "source": [
    "##### Continuous Probability Distribution\n",
    "\n",
    "- A probability distribution in which the random variable can take on any value, i.e., is continuous\n",
    "- The probability that a random variable will take on a specific value is zero\n",
    "\n",
    "##### Normal Distribution\n",
    "- The most common kind of a continuous probability distribution due to its useful applications in Statistics\n",
    "- A family of distributions, i.e., an infinite number of distributions with differing means (μ) and standard deviations (σ)\n",
    "- Symmetric about the mean \n",
    "- Mean = Median = Mode \n",
    "- The two tails extend indefinitely and never touch the axis\n",
    "- The standard normal probability function has a mean of zero and a standard deviation of one\n"
   ]
  },
  {
   "cell_type": "code",
   "execution_count": 72,
   "metadata": {},
   "outputs": [],
   "source": [
    "# Example: Students IQ Testing\n",
    "# We test 100 students and find that IQ is normally distributed with an average of 108, with a std deviation of 7 \n",
    "# Supposing you pick a random person from the 100 students, what are the chances that that student has an IQ > 115?\n",
    "\n",
    "# Solution: P(score > 115) = 1 - P(score <= 115)"
   ]
  },
  {
   "cell_type": "code",
   "execution_count": 73,
   "metadata": {},
   "outputs": [
    {
     "name": "stdout",
     "output_type": "stream",
     "text": [
      "Probability that the random student has an IQ > 115:  0.159\n"
     ]
    }
   ],
   "source": [
    "from scipy.stats import norm\n",
    "x = 115\n",
    "m = 108\n",
    "s = 7\n",
    "dist = 1-norm.cdf(x,m,s)\n",
    "print(\"Probability that the random student has an IQ > 115: \", round(dist,3))"
   ]
  },
  {
   "cell_type": "code",
   "execution_count": 74,
   "metadata": {},
   "outputs": [],
   "source": [
    "# Example: Product Guarantee\n",
    "# A manufacturer wants to state a guarantee for performance of their product, in hours, so\n",
    "# that product failure rates on the basis of hours of performance are restricted to less than 5%\n",
    "# They test a 1000 samples, and find average performance hours to be distributed normally,\n",
    "# with an average life of 71,450 hours, and a std deviation of 2700 hours\n",
    "# What number of performance hours should they guarantee for failure rates to be less than 5%?"
   ]
  },
  {
   "cell_type": "code",
   "execution_count": 75,
   "metadata": {},
   "outputs": [
    {
     "name": "stdout",
     "output_type": "stream",
     "text": [
      "Probability that the random sample performs less than 71450 hours:  0.5\n",
      "Probability that the random sample performs less than 70000 hours:  0.296\n",
      "Probability that the random sample performs less than 69000 hours:  0.182\n",
      "Probability that the random sample performs less than 68000 hours:  0.101\n",
      "Probability that the random sample performs less than 67000 hours:  0.05\n",
      "Probability that the random sample performs less than 66000 hours:  0.022\n"
     ]
    }
   ],
   "source": [
    "# Calculating probability for arbitrary number of hours using normal dist\n",
    "\n",
    "m = 71450\n",
    "s = 2700\n",
    "x1 = 71450\n",
    "P1 = norm.cdf(x1,m,s)\n",
    "print(\"Probability that the random sample performs less than 71450 hours: \", round(P1,3))\n",
    "\n",
    "x2 = 70000\n",
    "P2 = norm.cdf(x2,m,s)\n",
    "print(\"Probability that the random sample performs less than 70000 hours: \", round(P2,3))\n",
    "\n",
    "x3 = 69000\n",
    "P3 = norm.cdf(x3,m,s)\n",
    "print(\"Probability that the random sample performs less than 69000 hours: \", round(P3,3))\n",
    "\n",
    "x4 = 68000\n",
    "P4 = norm.cdf(x4,m,s)\n",
    "print(\"Probability that the random sample performs less than 68000 hours: \", round(P4,3))\n",
    "\n",
    "x5 = 67000\n",
    "P5 = norm.cdf(x5,m,s)\n",
    "print(\"Probability that the random sample performs less than 67000 hours: \", round(P5,3))\n",
    "\n",
    "x6 = 66000\n",
    "P6 = norm.cdf(x6,m,s)\n",
    "print(\"Probability that the random sample performs less than 66000 hours: \", round(P6,3))"
   ]
  },
  {
   "cell_type": "code",
   "execution_count": 76,
   "metadata": {},
   "outputs": [],
   "source": [
    "# The guarantee of 67000 hours as performance will ensure failure rates be kept at <5%"
   ]
  },
  {
   "cell_type": "code",
   "execution_count": 77,
   "metadata": {},
   "outputs": [],
   "source": [
    "############ end of notebook"
   ]
  }
 ],
 "metadata": {
  "kernelspec": {
   "display_name": "Python 3",
   "language": "python",
   "name": "python3"
  },
  "language_info": {
   "codemirror_mode": {
    "name": "ipython",
    "version": 3
   },
   "file_extension": ".py",
   "mimetype": "text/x-python",
   "name": "python",
   "nbconvert_exporter": "python",
   "pygments_lexer": "ipython3",
   "version": "3.6.5"
  }
 },
 "nbformat": 4,
 "nbformat_minor": 4
}
