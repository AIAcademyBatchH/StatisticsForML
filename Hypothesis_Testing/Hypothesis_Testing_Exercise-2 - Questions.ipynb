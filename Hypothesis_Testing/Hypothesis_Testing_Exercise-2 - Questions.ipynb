{
 "cells": [
  {
   "cell_type": "code",
   "execution_count": 1,
   "id": "8c0b35af",
   "metadata": {},
   "outputs": [],
   "source": [
    "# Questions:\n",
    "\n",
    "# 1. An experiment was conducted to compare the effectiveness of ammonium chloride and urea on the grain yield of paddy\n",
    "#    and data of the same is collected. X1 values are the ammonium chloride levels and X2 column denote urea.\n",
    "#    What can you conclude about the effectiveness of the two?\n",
    "# 2. Suppose the IQ in a certain population is normally distributed with a mean of μ = 100 and standard deviation of σ = 15.\n",
    "#    A researcher wants to know if a new drug affects IQ levels, so he recruits 20 patients to try it \n",
    "#    and records their IQ levels. How to determine if the new drug causes a significant difference in IQ levels?\n",
    "# 3. Suppose the IQ levels among individuals in two different cities are known to be normally distributed \n",
    "#    with known standard deviations. A researcher wants to know if the mean IQ level between individuals in city A and city B\n",
    "#    are different, so she selects a simple random sample of 20 individuals from each city and records their IQ levels.\n",
    "#    What can you conclude about the same?\n",
    "# 4. An experiment was carried out to evaluate how genotype and number of years affect yield of a certain crop and data is\n",
    "#    collected on the same. What do you infer about the effect of genotype and years on the yield independently as well as\n",
    "#    collectively?\n",
    "# 5. A survey was conducted on a small sample of population to analyse the relationship between gender and habits such as\n",
    "#    smoking and drinking. Are gender and the specific habits in question associated with each other?"
   ]
  }
 ],
 "metadata": {
  "kernelspec": {
   "display_name": "Python 3 (ipykernel)",
   "language": "python",
   "name": "python3"
  },
  "language_info": {
   "codemirror_mode": {
    "name": "ipython",
    "version": 3
   },
   "file_extension": ".py",
   "mimetype": "text/x-python",
   "name": "python",
   "nbconvert_exporter": "python",
   "pygments_lexer": "ipython3",
   "version": "3.8.11"
  }
 },
 "nbformat": 4,
 "nbformat_minor": 5
}
