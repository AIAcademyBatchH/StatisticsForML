{
 "cells": [
  {
   "cell_type": "code",
   "execution_count": 1,
   "id": "8c0b35af",
   "metadata": {},
   "outputs": [],
   "source": [
    "# Questions:\n",
    "\n",
    "# 1. Consider the sales data of two samples collected at random. Are the two samples associated with each other?\n",
    "#    What test will you use for the same? Chart out the inference drawn.\n",
    "# 2. You have some data recorded concerned with plant growth. Conduct a suitable testing to determine whether any difference\n",
    "#    exists between the different groups' impact on the growth."
   ]
  }
 ],
 "metadata": {
  "kernelspec": {
   "display_name": "Python 3 (ipykernel)",
   "language": "python",
   "name": "python3"
  },
  "language_info": {
   "codemirror_mode": {
    "name": "ipython",
    "version": 3
   },
   "file_extension": ".py",
   "mimetype": "text/x-python",
   "name": "python",
   "nbconvert_exporter": "python",
   "pygments_lexer": "ipython3",
   "version": "3.8.11"
  }
 },
 "nbformat": 4,
 "nbformat_minor": 5
}
