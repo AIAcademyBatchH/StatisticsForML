{
 "cells": [
  {
   "cell_type": "markdown",
   "metadata": {},
   "source": [
    "#### Hypothesis Testing\n",
    "- A statistical hypothesis is a hypothesis that is testable on the basis of observed data modelled as the realised values taken by a collection of random variables\n",
    "- Hypothesis testing is a form of statistical inference that uses data from a sample to draw conclusions about a population parameter or a population probability distribution\n",
    "- A hypothesis test evaluates two mutually exclusive statements about a population to determine which statement is best supported by the sample data\n",
    "- Null hypothesis or H0: a tentative assumption made about the parameter or distribution\n",
    "- Alternative hypothesis or H1: an assumption that is the opposite of what is stated in the null hypothesis\n",
    "- The hypothesis-testing procedure involves using sample data to determine whether or not H0 can be rejected\n",
    "\n",
    "![alt text](https://miro.medium.com/max/875/1*fEPOHXPQO_ZNJC4UQDXmqw.png \"H0 vs H1\")\n",
    "\n",
    "##### Level of significance\n",
    "- Refers to the degree of significance in which we accept or reject the null-hypothesis\n",
    "- 100% accuracy is not possible for accepting or rejecting a hypothesis, so we therefore select a level of significance that is usually 5%"
   ]
  },
  {
   "cell_type": "markdown",
   "metadata": {},
   "source": [
    "##### Parametric Tests \n",
    "- Parametric tests are those tests for which we have prior knowledge of the population distribution (i.e, normal), or if not then we can easily approximate it to a normal distribution which is possible with the help of the Central Limit Theorem\n",
    "- Common parametric tests:\n",
    "    1. T-test\n",
    "    2. Z-test\n",
    "    3. ANOVA\n",
    "\n",
    "##### Non-Parametric Tests\n",
    "- In Non-Parametric tests, we don’t make any assumption about the parameters for the given population or the population we are studying\n",
    "- There is no fixed set of parameters is available, and also there is no distribution of any kind available for use; hence, referred to as `distribution-free tests`\n",
    "- Common non-parametric tests:\n",
    "    1. Chi-square test\n",
    "    2. Mann-Whitney U-test\n",
    "    3. Kruskal-Wallis H-test"
   ]
  },
  {
   "cell_type": "markdown",
   "metadata": {},
   "source": [
    "######  T Tests\n",
    "- A t-test is a type of inferential statistic which is used to determine if there is a significant difference between the means of two groups which may be related in certain features\n",
    "- Mostly used when the data would follow a normal distribution and may have unknown variances\n",
    "\n",
    "###### One sample t-test \n",
    "- The One Sample t Test determines whether the sample mean is statistically different from a known or hypothesised population mean\n",
    "- The One Sample t Test is a parametric test"
   ]
  },
  {
   "cell_type": "code",
   "execution_count": 1,
   "metadata": {},
   "outputs": [],
   "source": [
    "# Example : Suppose you have 10 age records and you are testing whether the avg age is 30 or not\n",
    "\n",
    "# H0: Average age of the sample is 30 years\n",
    "# H1: Average age of the sample is not 30 years"
   ]
  },
  {
   "cell_type": "code",
   "execution_count": 2,
   "metadata": {},
   "outputs": [
    {
     "data": {
      "text/html": [
       "<div>\n",
       "<style scoped>\n",
       "    .dataframe tbody tr th:only-of-type {\n",
       "        vertical-align: middle;\n",
       "    }\n",
       "\n",
       "    .dataframe tbody tr th {\n",
       "        vertical-align: top;\n",
       "    }\n",
       "\n",
       "    .dataframe thead th {\n",
       "        text-align: right;\n",
       "    }\n",
       "</style>\n",
       "<table border=\"1\" class=\"dataframe\">\n",
       "  <thead>\n",
       "    <tr style=\"text-align: right;\">\n",
       "      <th></th>\n",
       "      <th>Age</th>\n",
       "    </tr>\n",
       "  </thead>\n",
       "  <tbody>\n",
       "    <tr>\n",
       "      <th>0</th>\n",
       "      <td>32</td>\n",
       "    </tr>\n",
       "    <tr>\n",
       "      <th>1</th>\n",
       "      <td>34</td>\n",
       "    </tr>\n",
       "    <tr>\n",
       "      <th>2</th>\n",
       "      <td>29</td>\n",
       "    </tr>\n",
       "    <tr>\n",
       "      <th>3</th>\n",
       "      <td>29</td>\n",
       "    </tr>\n",
       "    <tr>\n",
       "      <th>4</th>\n",
       "      <td>22</td>\n",
       "    </tr>\n",
       "    <tr>\n",
       "      <th>5</th>\n",
       "      <td>39</td>\n",
       "    </tr>\n",
       "    <tr>\n",
       "      <th>6</th>\n",
       "      <td>38</td>\n",
       "    </tr>\n",
       "    <tr>\n",
       "      <th>7</th>\n",
       "      <td>37</td>\n",
       "    </tr>\n",
       "    <tr>\n",
       "      <th>8</th>\n",
       "      <td>38</td>\n",
       "    </tr>\n",
       "    <tr>\n",
       "      <th>9</th>\n",
       "      <td>36</td>\n",
       "    </tr>\n",
       "    <tr>\n",
       "      <th>10</th>\n",
       "      <td>30</td>\n",
       "    </tr>\n",
       "    <tr>\n",
       "      <th>11</th>\n",
       "      <td>26</td>\n",
       "    </tr>\n",
       "    <tr>\n",
       "      <th>12</th>\n",
       "      <td>22</td>\n",
       "    </tr>\n",
       "    <tr>\n",
       "      <th>13</th>\n",
       "      <td>22</td>\n",
       "    </tr>\n",
       "  </tbody>\n",
       "</table>\n",
       "</div>"
      ],
      "text/plain": [
       "    Age\n",
       "0    32\n",
       "1    34\n",
       "2    29\n",
       "3    29\n",
       "4    22\n",
       "5    39\n",
       "6    38\n",
       "7    37\n",
       "8    38\n",
       "9    36\n",
       "10   30\n",
       "11   26\n",
       "12   22\n",
       "13   22"
      ]
     },
     "execution_count": 2,
     "metadata": {},
     "output_type": "execute_result"
    }
   ],
   "source": [
    "# Reading the data\n",
    "\n",
    "import pandas as pd\n",
    "import numpy as np\n",
    "age = pd.read_csv(\"Age_data_one_sample.csv\")\n",
    "age"
   ]
  },
  {
   "cell_type": "code",
   "execution_count": 22,
   "metadata": {},
   "outputs": [
    {
     "data": {
      "text/plain": [
       "31.0"
      ]
     },
     "execution_count": 22,
     "metadata": {},
     "output_type": "execute_result"
    }
   ],
   "source": [
    "# Calculating the mean\n",
    "\n",
    "mean_age = age[\"Age\"].mean()\n",
    "mean_age"
   ]
  },
  {
   "cell_type": "code",
   "execution_count": 23,
   "metadata": {},
   "outputs": [
    {
     "data": {
      "text/plain": [
       "6.2634470725607025"
      ]
     },
     "execution_count": 23,
     "metadata": {},
     "output_type": "execute_result"
    }
   ],
   "source": [
    "std_age = age[\"Age\"].std()\n",
    "std_age"
   ]
  },
  {
   "cell_type": "code",
   "execution_count": 10,
   "metadata": {},
   "outputs": [],
   "source": [
    "import math"
   ]
  },
  {
   "cell_type": "code",
   "execution_count": 24,
   "metadata": {},
   "outputs": [
    {
     "data": {
      "text/plain": [
       "3.7416573867739413"
      ]
     },
     "execution_count": 24,
     "metadata": {},
     "output_type": "execute_result"
    }
   ],
   "source": [
    "math.sqrt(len(age))"
   ]
  },
  {
   "cell_type": "code",
   "execution_count": 25,
   "metadata": {},
   "outputs": [
    {
     "data": {
      "text/plain": [
       "0.5973799001456603"
      ]
     },
     "execution_count": 25,
     "metadata": {},
     "output_type": "execute_result"
    }
   ],
   "source": [
    "t_stat = (mean_age - 30) / (std_age/math.sqrt(len(age)))\n",
    "t_stat"
   ]
  },
  {
   "cell_type": "code",
   "execution_count": 34,
   "metadata": {},
   "outputs": [
    {
     "name": "stdout",
     "output_type": "stream",
     "text": [
      "p-values:  0.5605155888171379\n",
      "we fail to reject null hypothesis\n"
     ]
    }
   ],
   "source": [
    "# Carrying out one sample t-test\n",
    "\n",
    "from scipy.stats import ttest_1samp\n",
    "tstat, pval = ttest_1samp(age[\"Age\"], 30,alternative='two-sided')\n",
    "print(\"p-values: \", pval)\n",
    "\n",
    "if pval < 0.05:\n",
    "    print(\" we are rejecting null hypothesis; we accept the alternate hypothesis\")\n",
    "else:\n",
    "    print(\"we fail to reject null hypothesis\")"
   ]
  },
  {
   "cell_type": "code",
   "execution_count": 4,
   "metadata": {},
   "outputs": [
    {
     "data": {
      "text/plain": [
       "0.5973799001456603"
      ]
     },
     "execution_count": 4,
     "metadata": {},
     "output_type": "execute_result"
    }
   ],
   "source": [
    "tstat"
   ]
  },
  {
   "cell_type": "markdown",
   "metadata": {},
   "source": [
    "`scipy.stats.ttest_1samp(a, popmean, axis=0, nan_policy='propagate', alternative='two-sided')`\n",
    "\n",
    "**Parameters:**\n",
    "   - a: array_like\n",
    "     \n",
    "     Sample observation\n",
    "\n",
    "   - popmean: float or array_like\n",
    "     \n",
    "     Expected value in null hypothesis; if array_like, then it must have the same shape as a excluding the axis dimension\n",
    "\n",
    "   - axis: int or None, optional\n",
    "     \n",
    "     Axis along which to compute test; default is 0; if None, compute over the whole array a\n",
    "\n",
    "   - nan_policy: {‘propagate’, ‘raise’, ‘omit’}, optional\n",
    "     \n",
    "     Defines how to handle when input contains nan. The following options are available (default is ‘propagate’):\n",
    "\n",
    "     ‘propagate’: returns nan\n",
    "\n",
    "     ‘raise’: throws an error\n",
    "\n",
    "     ‘omit’: performs the calculations ignoring nan values\n",
    "\n",
    "   - alternative: {‘two-sided’, ‘less’, ‘greater’}, optional\n",
    "     \n",
    "     Defines the alternative hypothesis. The following options are available (default is ‘two-sided’):\n",
    "\n",
    "     ‘two-sided’\n",
    "\n",
    "     ‘less’: one-sided\n",
    "\n",
    "     ‘greater’: one-sided"
   ]
  },
  {
   "cell_type": "code",
   "execution_count": 5,
   "metadata": {},
   "outputs": [],
   "source": [
    "# Conclusion: The average age of the sample is 30 years"
   ]
  },
  {
   "cell_type": "markdown",
   "metadata": {},
   "source": [
    "##### Two sample t-test\n",
    "- Compares the means of two independent groups in order to determine whether there is statistical evidence that the associated population means are significantly different\n",
    "- Parametric test"
   ]
  },
  {
   "cell_type": "code",
   "execution_count": 6,
   "metadata": {},
   "outputs": [],
   "source": [
    "# Example: Analyze the age data for two samples and examine if there is any association between the two\n",
    "# H0: The two samples are related with each other\n",
    "# H1: The two samples are not related with each other"
   ]
  },
  {
   "cell_type": "code",
   "execution_count": 17,
   "metadata": {},
   "outputs": [
    {
     "data": {
      "text/html": [
       "<div>\n",
       "<style scoped>\n",
       "    .dataframe tbody tr th:only-of-type {\n",
       "        vertical-align: middle;\n",
       "    }\n",
       "\n",
       "    .dataframe tbody tr th {\n",
       "        vertical-align: top;\n",
       "    }\n",
       "\n",
       "    .dataframe thead th {\n",
       "        text-align: right;\n",
       "    }\n",
       "</style>\n",
       "<table border=\"1\" class=\"dataframe\">\n",
       "  <thead>\n",
       "    <tr style=\"text-align: right;\">\n",
       "      <th></th>\n",
       "      <th>Age_1</th>\n",
       "      <th>Age_2</th>\n",
       "    </tr>\n",
       "  </thead>\n",
       "  <tbody>\n",
       "    <tr>\n",
       "      <th>0</th>\n",
       "      <td>32</td>\n",
       "      <td>39</td>\n",
       "    </tr>\n",
       "    <tr>\n",
       "      <th>1</th>\n",
       "      <td>34</td>\n",
       "      <td>27</td>\n",
       "    </tr>\n",
       "    <tr>\n",
       "      <th>2</th>\n",
       "      <td>29</td>\n",
       "      <td>32</td>\n",
       "    </tr>\n",
       "    <tr>\n",
       "      <th>3</th>\n",
       "      <td>29</td>\n",
       "      <td>32</td>\n",
       "    </tr>\n",
       "    <tr>\n",
       "      <th>4</th>\n",
       "      <td>22</td>\n",
       "      <td>25</td>\n",
       "    </tr>\n",
       "    <tr>\n",
       "      <th>5</th>\n",
       "      <td>39</td>\n",
       "      <td>35</td>\n",
       "    </tr>\n",
       "    <tr>\n",
       "      <th>6</th>\n",
       "      <td>38</td>\n",
       "      <td>39</td>\n",
       "    </tr>\n",
       "    <tr>\n",
       "      <th>7</th>\n",
       "      <td>37</td>\n",
       "      <td>35</td>\n",
       "    </tr>\n",
       "    <tr>\n",
       "      <th>8</th>\n",
       "      <td>38</td>\n",
       "      <td>28</td>\n",
       "    </tr>\n",
       "    <tr>\n",
       "      <th>9</th>\n",
       "      <td>36</td>\n",
       "      <td>22</td>\n",
       "    </tr>\n",
       "    <tr>\n",
       "      <th>10</th>\n",
       "      <td>30</td>\n",
       "      <td>22</td>\n",
       "    </tr>\n",
       "    <tr>\n",
       "      <th>11</th>\n",
       "      <td>26</td>\n",
       "      <td>26</td>\n",
       "    </tr>\n",
       "    <tr>\n",
       "      <th>12</th>\n",
       "      <td>22</td>\n",
       "      <td>36</td>\n",
       "    </tr>\n",
       "    <tr>\n",
       "      <th>13</th>\n",
       "      <td>22</td>\n",
       "      <td>30</td>\n",
       "    </tr>\n",
       "  </tbody>\n",
       "</table>\n",
       "</div>"
      ],
      "text/plain": [
       "    Age_1  Age_2\n",
       "0      32     39\n",
       "1      34     27\n",
       "2      29     32\n",
       "3      29     32\n",
       "4      22     25\n",
       "5      39     35\n",
       "6      38     39\n",
       "7      37     35\n",
       "8      38     28\n",
       "9      36     22\n",
       "10     30     22\n",
       "11     26     26\n",
       "12     22     36\n",
       "13     22     30"
      ]
     },
     "execution_count": 17,
     "metadata": {},
     "output_type": "execute_result"
    }
   ],
   "source": [
    "# Reading the data\n",
    "\n",
    "age_df = pd.read_csv(\"Age_data_two_sample.csv\")\n",
    "age_df"
   ]
  },
  {
   "cell_type": "code",
   "execution_count": 18,
   "metadata": {},
   "outputs": [
    {
     "name": "stdout",
     "output_type": "stream",
     "text": [
      "Mean of first age sample:  31.0\n",
      "Mean of second age sample:  30.571428571428573\n",
      "Std dev of first age sample:  6.2634470725607025\n",
      "Std dev of second age sample:  5.774137107885414\n"
     ]
    }
   ],
   "source": [
    "# Calculating the mean and std dev of both the samples\n",
    "\n",
    "mean_age1 = age_df[\"Age_1\"].mean()\n",
    "mean_age2 = age_df[\"Age_2\"].mean()\n",
    "print(\"Mean of first age sample: \", mean_age1)\n",
    "print(\"Mean of second age sample: \", mean_age2)\n",
    "\n",
    "std_age1 = age_df[\"Age_1\"].std()\n",
    "std_age2 = age_df[\"Age_2\"].std()\n",
    "print(\"Std dev of first age sample: \", std_age1)\n",
    "print(\"Std dev of second age sample: \", std_age2)"
   ]
  },
  {
   "cell_type": "code",
   "execution_count": 20,
   "metadata": {},
   "outputs": [
    {
     "name": "stdout",
     "output_type": "stream",
     "text": [
      "p-value 0.8521525600803064\n",
      "we fail to reject null hypothesis\n"
     ]
    }
   ],
   "source": [
    "# Two sample t-test\n",
    "\n",
    "from scipy.stats import ttest_ind\n",
    "tstat, pval = ttest_ind(age_df[\"Age_1\"], age_df[\"Age_2\"],alternative='two-sided')\n",
    "print(\"p-value\",pval)\n",
    "\n",
    "if pval <0.05:\n",
    "    print(\"we reject null hypothesis\")\n",
    "else:\n",
    "    print(\"we fail to reject null hypothesis\")"
   ]
  },
  {
   "cell_type": "markdown",
   "metadata": {},
   "source": [
    "`scipy.stats.ttest_ind(a, b, axis=0, alternative='two-sided')`\n",
    "\n",
    "**Parameters**\n",
    "   - a, b: array_like\n",
    "     \n",
    "     The arrays must have the same shape, except in the dimension corresponding to axis (the first, by default).\n",
    "\n",
    "   - axis: int or None, optional\n",
    "     \n",
    "     Axis along which to compute test. If None, compute over the whole arrays, a, and b.\n",
    "   \n",
    "   - alternative: {‘two-sided’, ‘less’, ‘greater’}, optional\n",
    "     \n",
    "     Defines the alternative hypothesis. The following options are available (default is ‘two-sided’):\n",
    "     \n",
    "     ‘two-sided’\n",
    "\n",
    "     ‘less’: one-sided\n",
    "\n",
    "     ‘greater’: one-sided"
   ]
  },
  {
   "cell_type": "code",
   "execution_count": 10,
   "metadata": {},
   "outputs": [],
   "source": [
    "# Conclusion: p-value > significance level; H0 accepted\n",
    "# The samples were taken from the same population"
   ]
  },
  {
   "cell_type": "markdown",
   "metadata": {},
   "source": [
    "##### Paired sampled t-test \n",
    "- The paired sample t-test is also called dependent sample t-test\n",
    "- It is a uni variate test that tests for a significant difference between two related variables"
   ]
  },
  {
   "cell_type": "code",
   "execution_count": 11,
   "metadata": {},
   "outputs": [],
   "source": [
    "# Example: You recorded the blood pressure for a group of people before and after a treatment is administered \n",
    "# and want to analyze whether there exists a mean difference between before and after the treatment\n",
    "\n",
    "# H0: Mean difference between two samples is zero\n",
    "# H1: Mean difference between two samples is not zero"
   ]
  },
  {
   "cell_type": "code",
   "execution_count": 3,
   "metadata": {},
   "outputs": [
    {
     "data": {
      "text/html": [
       "<div>\n",
       "<style scoped>\n",
       "    .dataframe tbody tr th:only-of-type {\n",
       "        vertical-align: middle;\n",
       "    }\n",
       "\n",
       "    .dataframe tbody tr th {\n",
       "        vertical-align: top;\n",
       "    }\n",
       "\n",
       "    .dataframe thead th {\n",
       "        text-align: right;\n",
       "    }\n",
       "</style>\n",
       "<table border=\"1\" class=\"dataframe\">\n",
       "  <thead>\n",
       "    <tr style=\"text-align: right;\">\n",
       "      <th></th>\n",
       "      <th>patient</th>\n",
       "      <th>sex</th>\n",
       "      <th>agegrp</th>\n",
       "      <th>bp_before</th>\n",
       "      <th>bp_after</th>\n",
       "    </tr>\n",
       "  </thead>\n",
       "  <tbody>\n",
       "    <tr>\n",
       "      <th>0</th>\n",
       "      <td>1</td>\n",
       "      <td>Male</td>\n",
       "      <td>30-45</td>\n",
       "      <td>143</td>\n",
       "      <td>153</td>\n",
       "    </tr>\n",
       "    <tr>\n",
       "      <th>1</th>\n",
       "      <td>2</td>\n",
       "      <td>Male</td>\n",
       "      <td>30-45</td>\n",
       "      <td>163</td>\n",
       "      <td>170</td>\n",
       "    </tr>\n",
       "    <tr>\n",
       "      <th>2</th>\n",
       "      <td>3</td>\n",
       "      <td>Male</td>\n",
       "      <td>30-45</td>\n",
       "      <td>153</td>\n",
       "      <td>168</td>\n",
       "    </tr>\n",
       "    <tr>\n",
       "      <th>3</th>\n",
       "      <td>4</td>\n",
       "      <td>Male</td>\n",
       "      <td>30-45</td>\n",
       "      <td>153</td>\n",
       "      <td>142</td>\n",
       "    </tr>\n",
       "    <tr>\n",
       "      <th>4</th>\n",
       "      <td>5</td>\n",
       "      <td>Male</td>\n",
       "      <td>30-45</td>\n",
       "      <td>146</td>\n",
       "      <td>141</td>\n",
       "    </tr>\n",
       "  </tbody>\n",
       "</table>\n",
       "</div>"
      ],
      "text/plain": [
       "   patient   sex agegrp  bp_before  bp_after\n",
       "0        1  Male  30-45        143       153\n",
       "1        2  Male  30-45        163       170\n",
       "2        3  Male  30-45        153       168\n",
       "3        4  Male  30-45        153       142\n",
       "4        5  Male  30-45        146       141"
      ]
     },
     "execution_count": 3,
     "metadata": {},
     "output_type": "execute_result"
    }
   ],
   "source": [
    "# Reading the data\n",
    "\n",
    "bp_df = pd.read_csv(\"blood_pressure.csv\")\n",
    "bp_df.head()"
   ]
  },
  {
   "cell_type": "code",
   "execution_count": 4,
   "metadata": {
    "scrolled": true
   },
   "outputs": [
    {
     "name": "stdout",
     "output_type": "stream",
     "text": [
      "156.45\n",
      "151.35833333333332\n"
     ]
    }
   ],
   "source": [
    "print(bp_df['bp_before'].mean())\n",
    "print(bp_df['bp_after'].mean())"
   ]
  },
  {
   "cell_type": "code",
   "execution_count": 42,
   "metadata": {},
   "outputs": [
    {
     "data": {
      "text/plain": [
       "(120, 5)"
      ]
     },
     "execution_count": 42,
     "metadata": {},
     "output_type": "execute_result"
    }
   ],
   "source": [
    "bp_df.shape"
   ]
  },
  {
   "cell_type": "code",
   "execution_count": 46,
   "metadata": {},
   "outputs": [
    {
     "name": "stdout",
     "output_type": "stream",
     "text": [
      "p-value:  0.0005648957322420411\n",
      "reject null hypothesis\n"
     ]
    }
   ],
   "source": [
    "# Paired sampled t-test\n",
    "\n",
    "from scipy.stats import ttest_rel\n",
    "ttest,pval = ttest_rel(bp_df['bp_before'], bp_df['bp_after'],alternative='greater')\n",
    "print(\"p-value: \", pval)\n",
    "\n",
    "if pval<0.05:\n",
    "    print(\"reject null hypothesis\")\n",
    "else:\n",
    "    print(\"accept null hypothesis\")"
   ]
  },
  {
   "cell_type": "markdown",
   "metadata": {},
   "source": [
    "`scipy.stats.ttest_rel(a, b, axis=0, nan_policy='propagate', alternative='two-sided')`\n",
    "\n",
    "**Parameters**\n",
    "   - a, b: array_like\n",
    "     \n",
    "     The arrays must have the same shape.\n",
    "\n",
    "   - axis: int or None, optional\n",
    "     \n",
    "     Axis along which to compute test. If None, compute over the whole arrays, a, and b.\n",
    "\n",
    "   - nan_policy: {‘propagate’, ‘raise’, ‘omit’}, optional\n",
    "     \n",
    "     Defines how to handle when input contains nan. The following options are available (default is ‘propagate’):\n",
    "\n",
    "     ‘propagate’: returns nan\n",
    "\n",
    "     ‘raise’: throws an error\n",
    "\n",
    "     ‘omit’: performs the calculations ignoring nan values\n",
    "\n",
    "   - alternative: {‘two-sided’, ‘less’, ‘greater’}, optional\n",
    "     \n",
    "     Defines the alternative hypothesis. The following options are available (default is ‘two-sided’):\n",
    "\n",
    "     ‘two-sided’\n",
    "\n",
    "     ‘less’: one-sided\n",
    "\n",
    "     ‘greater’: one-sided"
   ]
  },
  {
   "cell_type": "code",
   "execution_count": 14,
   "metadata": {},
   "outputs": [],
   "source": [
    "# Conclusion: The mean difference between two samples of blood pressure is not zero"
   ]
  },
  {
   "cell_type": "markdown",
   "metadata": {},
   "source": [
    "#### Z-Test\n",
    "- A parametric test used to determine whether the means are different when the population variance is known and the sample size is large (i.e, greater than 30)\n",
    "- Assumptions of this test:\n",
    "   1. Population distribution is normal\n",
    "   2. Samples are random and independent\n",
    "   3. The sample size is large\n",
    "   4. Population standard deviation is known\n",
    "\n",
    "**`When To Use Z-Test`**\n",
    "- Your sample size is greater than 30; otherwise use a t test\n",
    "- Data points should be independent from each other\n",
    "- Your data should be normally distributed; however, for large sample sizes (over 30) this doesn’t always matter\n",
    "- Your data should be randomly selected from a population, where each item has an equal chance of being selected\n",
    "- Sample sizes should be equal if at all possible\n",
    "\n",
    "**One Sample Z-test: To compare a sample mean with that of the population mean**"
   ]
  },
  {
   "cell_type": "code",
   "execution_count": 15,
   "metadata": {},
   "outputs": [],
   "source": [
    "# Example: What may be concluded about the sample of blood pressure collected prior the treatment belonging to\n",
    "# a population with mean bp 156?\n",
    "\n",
    "# H0: The bp_before sample belongs to the population with mean 156\n",
    "# H1: The bp_before sample does not belong to the population with mean 156"
   ]
  },
  {
   "cell_type": "code",
   "execution_count": 5,
   "metadata": {},
   "outputs": [
    {
     "name": "stdout",
     "output_type": "stream",
     "text": [
      "p-value:  0.00033524859139319116\n",
      "reject null hypothesis\n"
     ]
    }
   ],
   "source": [
    "# One sample z test\n",
    "\n",
    "from statsmodels.stats import weightstats as stests\n",
    "# ztest ,pval = stests.ztest(bp_df['bp_before'], x2=None, value=156)\n",
    "ztest ,pval = stests.ztest(bp_df['bp_after'], x2=None, value=156)\n",
    "print(\"p-value: \", float(pval))\n",
    "\n",
    "if pval<0.05:\n",
    "    print(\"reject null hypothesis\")\n",
    "else:\n",
    "    print(\"accept null hypothesis\")"
   ]
  },
  {
   "cell_type": "markdown",
   "metadata": {},
   "source": [
    "`stests.ztest(x1, x2, value, alternative='two-sided')`\n",
    "\n",
    "**Parameters**\n",
    "   - x1: array_like, 1-D or 2-D\n",
    "     first of the two independent samples\n",
    "\n",
    "   - x2: array_like, 1-D or 2-D\n",
    "     second of the two independent samples\n",
    "\n",
    "   - value: float\n",
    "     In the one sample case, value is the mean of x1 under the Null hypothesis.\n",
    "     \n",
    "     In the two sample case, value is the difference between mean of x1 and\n",
    "     mean of x2 under the Null hypothesis; the test statistic is `x1_mean - x2_mean - value`\n",
    "\n",
    "   - alternative: str\n",
    "     The alternative hypothesis, H1, has to be one of the following:\n",
    "\n",
    "     'two-sided'- H1: difference in means not equal to value (default)\n",
    "     \n",
    "     'larger' -   H1: difference in means larger than value\n",
    "     \n",
    "     'smaller' -  H1: difference in means smaller than value\n"
   ]
  },
  {
   "cell_type": "code",
   "execution_count": 17,
   "metadata": {},
   "outputs": [],
   "source": [
    "# Conclusion: The sample of blood pressure collected prior to the treatment belongs to the population with mean 156"
   ]
  },
  {
   "cell_type": "markdown",
   "metadata": {},
   "source": [
    "**Two Sample Z-test: To compare the means of two different samples**"
   ]
  },
  {
   "cell_type": "code",
   "execution_count": 18,
   "metadata": {},
   "outputs": [],
   "source": [
    "# Example: Examine whether the bp_before and after samples have different means or not\n",
    "\n",
    "# H0: Mean difference between two groups is 0\n",
    "# H1: Mean difference between two groups is not 0"
   ]
  },
  {
   "cell_type": "code",
   "execution_count": 19,
   "metadata": {},
   "outputs": [
    {
     "name": "stdout",
     "output_type": "stream",
     "text": [
      "p-value:  0.002162306611369422\n",
      "reject null hypothesis\n"
     ]
    }
   ],
   "source": [
    "ztest ,pval = stests.ztest(bp_df['bp_before'], bp_df['bp_after'], value=0, alternative='two-sided')\n",
    "print(\"p-value: \", float(pval))\n",
    "\n",
    "if pval<0.05:\n",
    "    print(\"reject null hypothesis\")\n",
    "else:\n",
    "    print(\"accept null hypothesis\")"
   ]
  },
  {
   "cell_type": "code",
   "execution_count": 20,
   "metadata": {},
   "outputs": [],
   "source": [
    "# Conclusion: The mean difference between before and after bp samples is not zero, that is the sample means are different"
   ]
  },
  {
   "cell_type": "markdown",
   "metadata": {},
   "source": [
    "#### ANOVA \n",
    "- Also called as Analysis of variance, it is a parametric test of hypothesis testing\n",
    "- An extension of the T-test and Z-test\n",
    "- Used to test the significance of the differences in the mean values among more than two sample groups\n",
    "- It uses F-test to statistically test the equality of means and the relative variance between them\n",
    "- Assumptions of ANOVA:\n",
    "    1. Population distribution is normal\n",
    "    2. Samples are random and independent\n",
    "    3. Homogeneity of sample variance\n",
    "- F-statistic = variance between the sample means/variance within the sample\n",
    "\n",
    "![alt text](https://miro.medium.com/max/800/1*SV4xlXEFCKzgT4PbB6nlgA.png \"F-statistic\")\n",
    "\n",
    "- Unlike the Z and T distributions, the F-distribution does not have any negative values because between and within-group variability are always positive due to squaring each deviation"
   ]
  },
  {
   "cell_type": "markdown",
   "metadata": {},
   "source": [
    "**One Way ANOVA:- It tells whether two or more groups are similar or not based on their mean similarity and f-score**"
   ]
  },
  {
   "cell_type": "code",
   "execution_count": 21,
   "metadata": {},
   "outputs": [],
   "source": [
    "import pandas as pd\n",
    "import numpy as np\n",
    "import researchpy as rp\n",
    "# pip install researchpy"
   ]
  },
  {
   "cell_type": "markdown",
   "metadata": {},
   "source": [
    "###### Researchpy \n",
    "- Researchpy produces Pandas DataFrames that contains relevant statistical testing information that is commonly required\n",
    "for academic research\n",
    "- The information is returned as Pandas DataFrames to make for quick and easy exporting of results to any format/method that works with the traditional Pandas DataFrame\n",
    "- Researchpy is essentially a wrapper that combines various established packages such as pandas, scipy.stats, numpy, and statsmodels to get all the standard required information in one method"
   ]
  },
  {
   "cell_type": "code",
   "execution_count": 22,
   "metadata": {},
   "outputs": [],
   "source": [
    "# Example: A new medication was developed to increase the immunity of those who take the medication\n",
    "# The purpose of this study was to test for a difference between the dosage levels\n",
    "\n",
    "# H0: There is no difference between the different groups' immunity\n",
    "# H1: There is significant difference between the different groups' immunity"
   ]
  },
  {
   "cell_type": "code",
   "execution_count": 23,
   "metadata": {},
   "outputs": [
    {
     "data": {
      "text/html": [
       "<div>\n",
       "<style scoped>\n",
       "    .dataframe tbody tr th:only-of-type {\n",
       "        vertical-align: middle;\n",
       "    }\n",
       "\n",
       "    .dataframe tbody tr th {\n",
       "        vertical-align: top;\n",
       "    }\n",
       "\n",
       "    .dataframe thead th {\n",
       "        text-align: right;\n",
       "    }\n",
       "</style>\n",
       "<table border=\"1\" class=\"dataframe\">\n",
       "  <thead>\n",
       "    <tr style=\"text-align: right;\">\n",
       "      <th></th>\n",
       "      <th>person</th>\n",
       "      <th>dose</th>\n",
       "      <th>immunity</th>\n",
       "    </tr>\n",
       "  </thead>\n",
       "  <tbody>\n",
       "    <tr>\n",
       "      <th>0</th>\n",
       "      <td>1</td>\n",
       "      <td>1</td>\n",
       "      <td>3</td>\n",
       "    </tr>\n",
       "    <tr>\n",
       "      <th>1</th>\n",
       "      <td>2</td>\n",
       "      <td>1</td>\n",
       "      <td>2</td>\n",
       "    </tr>\n",
       "    <tr>\n",
       "      <th>2</th>\n",
       "      <td>3</td>\n",
       "      <td>1</td>\n",
       "      <td>1</td>\n",
       "    </tr>\n",
       "    <tr>\n",
       "      <th>3</th>\n",
       "      <td>4</td>\n",
       "      <td>1</td>\n",
       "      <td>1</td>\n",
       "    </tr>\n",
       "    <tr>\n",
       "      <th>4</th>\n",
       "      <td>5</td>\n",
       "      <td>1</td>\n",
       "      <td>4</td>\n",
       "    </tr>\n",
       "  </tbody>\n",
       "</table>\n",
       "</div>"
      ],
      "text/plain": [
       "   person  dose  immunity\n",
       "0       1     1         3\n",
       "1       2     1         2\n",
       "2       3     1         1\n",
       "3       4     1         1\n",
       "4       5     1         4"
      ]
     },
     "execution_count": 23,
     "metadata": {},
     "output_type": "execute_result"
    }
   ],
   "source": [
    "one_way_df = pd.read_csv('one-way.txt')\n",
    "one_way_df.head()"
   ]
  },
  {
   "cell_type": "code",
   "execution_count": 24,
   "metadata": {},
   "outputs": [],
   "source": [
    "one_way_df.drop('person', axis= 1, inplace= True)"
   ]
  },
  {
   "cell_type": "code",
   "execution_count": 25,
   "metadata": {},
   "outputs": [
    {
     "name": "stdout",
     "output_type": "stream",
     "text": [
      "<class 'pandas.core.frame.DataFrame'>\n",
      "RangeIndex: 15 entries, 0 to 14\n",
      "Data columns (total 2 columns):\n",
      " #   Column    Non-Null Count  Dtype \n",
      "---  ------    --------------  ----- \n",
      " 0   dose      15 non-null     object\n",
      " 1   immunity  15 non-null     int64 \n",
      "dtypes: int64(1), object(1)\n",
      "memory usage: 368.0+ bytes\n"
     ]
    }
   ],
   "source": [
    "# Recoding value from numeric to string\n",
    "\n",
    "one_way_df['dose'].replace({1: 'placebo', 2: 'low', 3: 'high'}, inplace= True)\n",
    "one_way_df.info()"
   ]
  },
  {
   "cell_type": "code",
   "execution_count": 26,
   "metadata": {},
   "outputs": [
    {
     "data": {
      "text/html": [
       "<div>\n",
       "<style scoped>\n",
       "    .dataframe tbody tr th:only-of-type {\n",
       "        vertical-align: middle;\n",
       "    }\n",
       "\n",
       "    .dataframe tbody tr th {\n",
       "        vertical-align: top;\n",
       "    }\n",
       "\n",
       "    .dataframe thead th {\n",
       "        text-align: right;\n",
       "    }\n",
       "</style>\n",
       "<table border=\"1\" class=\"dataframe\">\n",
       "  <thead>\n",
       "    <tr style=\"text-align: right;\">\n",
       "      <th></th>\n",
       "      <th>immunity</th>\n",
       "    </tr>\n",
       "    <tr>\n",
       "      <th>dose</th>\n",
       "      <th></th>\n",
       "    </tr>\n",
       "  </thead>\n",
       "  <tbody>\n",
       "    <tr>\n",
       "      <th>high</th>\n",
       "      <td>5.0</td>\n",
       "    </tr>\n",
       "    <tr>\n",
       "      <th>low</th>\n",
       "      <td>3.2</td>\n",
       "    </tr>\n",
       "    <tr>\n",
       "      <th>placebo</th>\n",
       "      <td>2.2</td>\n",
       "    </tr>\n",
       "  </tbody>\n",
       "</table>\n",
       "</div>"
      ],
      "text/plain": [
       "         immunity\n",
       "dose             \n",
       "high          5.0\n",
       "low           3.2\n",
       "placebo       2.2"
      ]
     },
     "execution_count": 26,
     "metadata": {},
     "output_type": "execute_result"
    }
   ],
   "source": [
    "# Analyzing mean immunity across various dosage groups\n",
    "one_way_df.groupby('dose').agg({'immunity':np.mean})"
   ]
  },
  {
   "cell_type": "code",
   "execution_count": 27,
   "metadata": {},
   "outputs": [
    {
     "name": "stdout",
     "output_type": "stream",
     "text": [
      "\n",
      "\n"
     ]
    },
    {
     "data": {
      "text/html": [
       "<div>\n",
       "<style scoped>\n",
       "    .dataframe tbody tr th:only-of-type {\n",
       "        vertical-align: middle;\n",
       "    }\n",
       "\n",
       "    .dataframe tbody tr th {\n",
       "        vertical-align: top;\n",
       "    }\n",
       "\n",
       "    .dataframe thead th {\n",
       "        text-align: right;\n",
       "    }\n",
       "</style>\n",
       "<table border=\"1\" class=\"dataframe\">\n",
       "  <thead>\n",
       "    <tr style=\"text-align: right;\">\n",
       "      <th></th>\n",
       "      <th>N</th>\n",
       "      <th>Mean</th>\n",
       "      <th>SD</th>\n",
       "      <th>SE</th>\n",
       "      <th>95% Conf.</th>\n",
       "      <th>Interval</th>\n",
       "    </tr>\n",
       "    <tr>\n",
       "      <th>dose</th>\n",
       "      <th></th>\n",
       "      <th></th>\n",
       "      <th></th>\n",
       "      <th></th>\n",
       "      <th></th>\n",
       "      <th></th>\n",
       "    </tr>\n",
       "  </thead>\n",
       "  <tbody>\n",
       "    <tr>\n",
       "      <th>high</th>\n",
       "      <td>5</td>\n",
       "      <td>5.0</td>\n",
       "      <td>1.5811</td>\n",
       "      <td>0.7071</td>\n",
       "      <td>3.0368</td>\n",
       "      <td>6.9632</td>\n",
       "    </tr>\n",
       "    <tr>\n",
       "      <th>low</th>\n",
       "      <td>5</td>\n",
       "      <td>3.2</td>\n",
       "      <td>1.3038</td>\n",
       "      <td>0.5831</td>\n",
       "      <td>1.5811</td>\n",
       "      <td>4.8189</td>\n",
       "    </tr>\n",
       "    <tr>\n",
       "      <th>placebo</th>\n",
       "      <td>5</td>\n",
       "      <td>2.2</td>\n",
       "      <td>1.3038</td>\n",
       "      <td>0.5831</td>\n",
       "      <td>0.5811</td>\n",
       "      <td>3.8189</td>\n",
       "    </tr>\n",
       "  </tbody>\n",
       "</table>\n",
       "</div>"
      ],
      "text/plain": [
       "         N  Mean      SD      SE  95% Conf.  Interval\n",
       "dose                                                 \n",
       "high     5   5.0  1.5811  0.7071     3.0368    6.9632\n",
       "low      5   3.2  1.3038  0.5831     1.5811    4.8189\n",
       "placebo  5   2.2  1.3038  0.5831     0.5811    3.8189"
      ]
     },
     "execution_count": 27,
     "metadata": {},
     "output_type": "execute_result"
    }
   ],
   "source": [
    "rp.summary_cont(one_way_df['immunity'].groupby(one_way_df['dose']))"
   ]
  },
  {
   "cell_type": "markdown",
   "metadata": {},
   "source": [
    "summary_cont() method returns a nice data table as a Pandas DataFrame that includes the variable name, total number of non-missing observations, standard deviation, standard error, and the 95% confidence interval"
   ]
  },
  {
   "cell_type": "code",
   "execution_count": 28,
   "metadata": {},
   "outputs": [
    {
     "data": {
      "text/plain": [
       "F_onewayResult(statistic=5.11864406779661, pvalue=0.024694289538222603)"
      ]
     },
     "execution_count": 28,
     "metadata": {},
     "output_type": "execute_result"
    }
   ],
   "source": [
    "# ONE-WAY ANOVA USING SCIPY.STATS\n",
    "\n",
    "import scipy.stats as stats\n",
    "\n",
    "stats.f_oneway(one_way_df['immunity'][one_way_df['dose'] == 'high'],\n",
    "               one_way_df['immunity'][one_way_df['dose'] == 'low'],\n",
    "               one_way_df['immunity'][one_way_df['dose'] == 'placebo'])"
   ]
  },
  {
   "cell_type": "markdown",
   "metadata": {},
   "source": [
    "`scipy.stats.f_oneway(*args, axis=0)`\n",
    "\n",
    "**Parameters**\n",
    "   - sample1, sample2, …: array_like\n",
    "     \n",
    "     The sample measurements for each group. There must be at least two arguments. If the arrays are multidimensional, then all the dimensions of the array must be the same except for axis.\n",
    "\n",
    "   - axis: int, optional\n",
    "     \n",
    "     Axis of the input arrays along which the test is applied. Default is 0."
   ]
  },
  {
   "cell_type": "markdown",
   "metadata": {},
   "source": [
    "##### Inference\n",
    "- The overall average immunity was 3.5 95% CI(2.5, 4.4) with group averages of 2.2 95% CI(0.9, 3.5) for the placebo group; 3.2 95% CI(1.9, 4.5) for the low dose group; and 5.0 95% CI(3.5, 6.5) for the high dose group\n",
    "- There is a statistically significant difference between the groups and their effects on the immunity, F= 5.12, p-value= 0.0247; thereby H0 rejected and H1 accepted"
   ]
  },
  {
   "cell_type": "markdown",
   "metadata": {},
   "source": [
    "##### ONE-WAY ANOVA USING STATSMODELS\n",
    "\n",
    "- statsmodels is a Python module that provides classes and functions for the estimation of many different statistical models, as well as for conducting statistical tests, and statistical data exploration\n",
    "- An extensive list of result statistics are available for each estimator. The results are tested against existing statistical packages to ensure that they are correct\n",
    "- statsmodels.formula.api.ols(formula, data, subset=None, drop_cols=None): Create a Model from a formula and dataframe"
   ]
  },
  {
   "cell_type": "code",
   "execution_count": 29,
   "metadata": {},
   "outputs": [
    {
     "data": {
      "text/html": [
       "<div>\n",
       "<style scoped>\n",
       "    .dataframe tbody tr th:only-of-type {\n",
       "        vertical-align: middle;\n",
       "    }\n",
       "\n",
       "    .dataframe tbody tr th {\n",
       "        vertical-align: top;\n",
       "    }\n",
       "\n",
       "    .dataframe thead th {\n",
       "        text-align: right;\n",
       "    }\n",
       "</style>\n",
       "<table border=\"1\" class=\"dataframe\">\n",
       "  <thead>\n",
       "    <tr style=\"text-align: right;\">\n",
       "      <th></th>\n",
       "      <th>sum_sq</th>\n",
       "      <th>df</th>\n",
       "      <th>F</th>\n",
       "      <th>PR(&gt;F)</th>\n",
       "    </tr>\n",
       "  </thead>\n",
       "  <tbody>\n",
       "    <tr>\n",
       "      <th>C(dose)</th>\n",
       "      <td>20.133333</td>\n",
       "      <td>2.0</td>\n",
       "      <td>5.118644</td>\n",
       "      <td>0.024694</td>\n",
       "    </tr>\n",
       "    <tr>\n",
       "      <th>Residual</th>\n",
       "      <td>23.600000</td>\n",
       "      <td>12.0</td>\n",
       "      <td>NaN</td>\n",
       "      <td>NaN</td>\n",
       "    </tr>\n",
       "  </tbody>\n",
       "</table>\n",
       "</div>"
      ],
      "text/plain": [
       "             sum_sq    df         F    PR(>F)\n",
       "C(dose)   20.133333   2.0  5.118644  0.024694\n",
       "Residual  23.600000  12.0       NaN       NaN"
      ]
     },
     "execution_count": 29,
     "metadata": {},
     "output_type": "execute_result"
    }
   ],
   "source": [
    "import statsmodels.api as sm\n",
    "from statsmodels.formula.api import ols\n",
    "\n",
    "model = ols('immunity ~ C(dose)', data=one_way_df).fit()\n",
    "aov_table = sm.stats.anova_lm(model, typ=2)\n",
    "aov_table"
   ]
  },
  {
   "cell_type": "markdown",
   "metadata": {},
   "source": [
    "`statsmodels.stats.anova.anova_lm(*args, **kwargs)`\n",
    "\n",
    "**Parameters**\n",
    "   - args: fitted linear model results instance\n",
    "     \n",
    "     One or more fitted linear models\n",
    "     \n",
    "   - test: str {“F”, “Chisq”, “Cp”} or None\n",
    "     \n",
    "     Test statistics to provide. Default is “F”.\n",
    "\n",
    "   - typ: str or int {“I”,”II”,”III”} or {1,2,3}\n",
    "     \n",
    "     The type of Anova test to perform"
   ]
  },
  {
   "cell_type": "markdown",
   "metadata": {},
   "source": [
    "**Two-Way ANOVA: is used when we have two independent variables and more than two groups to compare & test**"
   ]
  },
  {
   "cell_type": "code",
   "execution_count": 30,
   "metadata": {},
   "outputs": [],
   "source": [
    "# Example: In the toothgrowth data, examine whether the supplements and formula has any impact on the tooth growth,\n",
    "# independently as well as together"
   ]
  },
  {
   "cell_type": "code",
   "execution_count": 31,
   "metadata": {},
   "outputs": [
    {
     "data": {
      "text/html": [
       "<div>\n",
       "<style scoped>\n",
       "    .dataframe tbody tr th:only-of-type {\n",
       "        vertical-align: middle;\n",
       "    }\n",
       "\n",
       "    .dataframe tbody tr th {\n",
       "        vertical-align: top;\n",
       "    }\n",
       "\n",
       "    .dataframe thead th {\n",
       "        text-align: right;\n",
       "    }\n",
       "</style>\n",
       "<table border=\"1\" class=\"dataframe\">\n",
       "  <thead>\n",
       "    <tr style=\"text-align: right;\">\n",
       "      <th></th>\n",
       "      <th>Unnamed: 0</th>\n",
       "      <th>len</th>\n",
       "      <th>supp</th>\n",
       "      <th>dose</th>\n",
       "    </tr>\n",
       "  </thead>\n",
       "  <tbody>\n",
       "    <tr>\n",
       "      <th>0</th>\n",
       "      <td>1</td>\n",
       "      <td>4.2</td>\n",
       "      <td>VC</td>\n",
       "      <td>0.5</td>\n",
       "    </tr>\n",
       "    <tr>\n",
       "      <th>1</th>\n",
       "      <td>2</td>\n",
       "      <td>11.5</td>\n",
       "      <td>VC</td>\n",
       "      <td>0.5</td>\n",
       "    </tr>\n",
       "    <tr>\n",
       "      <th>2</th>\n",
       "      <td>3</td>\n",
       "      <td>7.3</td>\n",
       "      <td>VC</td>\n",
       "      <td>0.5</td>\n",
       "    </tr>\n",
       "    <tr>\n",
       "      <th>3</th>\n",
       "      <td>4</td>\n",
       "      <td>5.8</td>\n",
       "      <td>VC</td>\n",
       "      <td>0.5</td>\n",
       "    </tr>\n",
       "    <tr>\n",
       "      <th>4</th>\n",
       "      <td>5</td>\n",
       "      <td>6.4</td>\n",
       "      <td>VC</td>\n",
       "      <td>0.5</td>\n",
       "    </tr>\n",
       "  </tbody>\n",
       "</table>\n",
       "</div>"
      ],
      "text/plain": [
       "   Unnamed: 0   len supp  dose\n",
       "0           1   4.2   VC   0.5\n",
       "1           2  11.5   VC   0.5\n",
       "2           3   7.3   VC   0.5\n",
       "3           4   5.8   VC   0.5\n",
       "4           5   6.4   VC   0.5"
      ]
     },
     "execution_count": 31,
     "metadata": {},
     "output_type": "execute_result"
    }
   ],
   "source": [
    "# Reading the data\n",
    "tooth_df = pd.read_csv('ToothGrowth.csv')\n",
    "tooth_df.head()"
   ]
  },
  {
   "cell_type": "code",
   "execution_count": 32,
   "metadata": {},
   "outputs": [
    {
     "data": {
      "text/html": [
       "<div>\n",
       "<style scoped>\n",
       "    .dataframe tbody tr th:only-of-type {\n",
       "        vertical-align: middle;\n",
       "    }\n",
       "\n",
       "    .dataframe tbody tr th {\n",
       "        vertical-align: top;\n",
       "    }\n",
       "\n",
       "    .dataframe thead th {\n",
       "        text-align: right;\n",
       "    }\n",
       "</style>\n",
       "<table border=\"1\" class=\"dataframe\">\n",
       "  <thead>\n",
       "    <tr style=\"text-align: right;\">\n",
       "      <th></th>\n",
       "      <th>sum_sq</th>\n",
       "      <th>df</th>\n",
       "      <th>F</th>\n",
       "      <th>PR(&gt;F)</th>\n",
       "    </tr>\n",
       "  </thead>\n",
       "  <tbody>\n",
       "    <tr>\n",
       "      <th>C(supp)</th>\n",
       "      <td>205.350000</td>\n",
       "      <td>1.0</td>\n",
       "      <td>15.571979</td>\n",
       "      <td>2.311828e-04</td>\n",
       "    </tr>\n",
       "    <tr>\n",
       "      <th>C(dose)</th>\n",
       "      <td>2426.434333</td>\n",
       "      <td>2.0</td>\n",
       "      <td>91.999965</td>\n",
       "      <td>4.046291e-18</td>\n",
       "    </tr>\n",
       "    <tr>\n",
       "      <th>C(supp):C(dose)</th>\n",
       "      <td>108.319000</td>\n",
       "      <td>2.0</td>\n",
       "      <td>4.106991</td>\n",
       "      <td>2.186027e-02</td>\n",
       "    </tr>\n",
       "    <tr>\n",
       "      <th>Residual</th>\n",
       "      <td>712.106000</td>\n",
       "      <td>54.0</td>\n",
       "      <td>NaN</td>\n",
       "      <td>NaN</td>\n",
       "    </tr>\n",
       "  </tbody>\n",
       "</table>\n",
       "</div>"
      ],
      "text/plain": [
       "                      sum_sq    df          F        PR(>F)\n",
       "C(supp)           205.350000   1.0  15.571979  2.311828e-04\n",
       "C(dose)          2426.434333   2.0  91.999965  4.046291e-18\n",
       "C(supp):C(dose)   108.319000   2.0   4.106991  2.186027e-02\n",
       "Residual          712.106000  54.0        NaN           NaN"
      ]
     },
     "execution_count": 32,
     "metadata": {},
     "output_type": "execute_result"
    }
   ],
   "source": [
    "# Two-way ANOVA testing\n",
    "\n",
    "formula = 'len ~ C(supp) + C(dose) + C(supp):C(dose)'\n",
    "model = ols(formula, tooth_df).fit()\n",
    "aov_table = sm.stats.anova_lm(model, typ=2)\n",
    "aov_table"
   ]
  },
  {
   "cell_type": "markdown",
   "metadata": {},
   "source": [
    "#### Both supplements and dosage significantly impact the growth of the tooth and their combination also has an effect"
   ]
  },
  {
   "cell_type": "markdown",
   "metadata": {},
   "source": [
    "#### Chi-Square Test \n",
    "- A non-parametric test \n",
    "- Helps to test independence between two variables\n",
    "- It makes a comparison between the expected frequencies and the observed frequencies\n",
    "- The test is applied when you have two categorical variables from a single population\n",
    "- Contingency Table: A contingency table (also called crosstab) is used in statistics to summarise the relationship between several categorical variables"
   ]
  },
  {
   "cell_type": "code",
   "execution_count": 33,
   "metadata": {},
   "outputs": [],
   "source": [
    "# Example: Data is collected based on people's gender and their color preference\n",
    "# Is there any association between the two variables in question?\n",
    "\n",
    "# H0: Gender and color preference are dependent on each other\n",
    "# H1: Gender and color preference are independent of each other"
   ]
  },
  {
   "cell_type": "code",
   "execution_count": 34,
   "metadata": {},
   "outputs": [
    {
     "data": {
      "text/html": [
       "<div>\n",
       "<style scoped>\n",
       "    .dataframe tbody tr th:only-of-type {\n",
       "        vertical-align: middle;\n",
       "    }\n",
       "\n",
       "    .dataframe tbody tr th {\n",
       "        vertical-align: top;\n",
       "    }\n",
       "\n",
       "    .dataframe thead th {\n",
       "        text-align: right;\n",
       "    }\n",
       "</style>\n",
       "<table border=\"1\" class=\"dataframe\">\n",
       "  <thead>\n",
       "    <tr style=\"text-align: right;\">\n",
       "      <th></th>\n",
       "      <th>Black</th>\n",
       "      <th>White</th>\n",
       "      <th>Red</th>\n",
       "      <th>Blue</th>\n",
       "    </tr>\n",
       "  </thead>\n",
       "  <tbody>\n",
       "    <tr>\n",
       "      <th>Male</th>\n",
       "      <td>48</td>\n",
       "      <td>22</td>\n",
       "      <td>33</td>\n",
       "      <td>47</td>\n",
       "    </tr>\n",
       "    <tr>\n",
       "      <th>Female</th>\n",
       "      <td>35</td>\n",
       "      <td>36</td>\n",
       "      <td>42</td>\n",
       "      <td>27</td>\n",
       "    </tr>\n",
       "  </tbody>\n",
       "</table>\n",
       "</div>"
      ],
      "text/plain": [
       "        Black  White  Red  Blue\n",
       "Male       48     22   33    47\n",
       "Female     35     36   42    27"
      ]
     },
     "execution_count": 34,
     "metadata": {},
     "output_type": "execute_result"
    }
   ],
   "source": [
    "# Creating dataframe of observed values for the variables in question\n",
    "\n",
    "chi_df = pd.DataFrame([[48,22,33,47],[35,36,42,27]], index=[\"Male\",\"Female\"], columns=[\"Black\",\"White\",\"Red\",\"Blue\"])\n",
    "chi_df.head()"
   ]
  },
  {
   "cell_type": "code",
   "execution_count": 35,
   "metadata": {},
   "outputs": [],
   "source": [
    "# Calculating chi-square statistic\n",
    "\n",
    "from scipy import stats\n",
    "chi_stat,pval,dof,expected_values = stats.chi2_contingency(chi_df)"
   ]
  },
  {
   "cell_type": "markdown",
   "metadata": {},
   "source": [
    "The above function computes the chi-square statistic and p-value for the hypothesis test of independence of the observed frequencies in the contingency table observed"
   ]
  },
  {
   "cell_type": "code",
   "execution_count": 36,
   "metadata": {},
   "outputs": [
    {
     "name": "stdout",
     "output_type": "stream",
     "text": [
      "Chi-square statistic: 11.56978992417547\n",
      "p-value: 0.00901202511379703\n",
      "Degree of Freedom:  3\n",
      "Expected values: \n",
      " [[42.93103448 30.         38.79310345 38.27586207]\n",
      " [40.06896552 28.         36.20689655 35.72413793]]\n"
     ]
    }
   ],
   "source": [
    "print('Chi-square statistic:',chi_stat)\n",
    "print('p-value:',pval)\n",
    "print('Degree of Freedom: ',dof)\n",
    "print('Expected values: \\n', expected_values)"
   ]
  },
  {
   "cell_type": "code",
   "execution_count": 37,
   "metadata": {},
   "outputs": [
    {
     "name": "stdout",
     "output_type": "stream",
     "text": [
      "critical_value: 7.814727903251179\n"
     ]
    }
   ],
   "source": [
    "# Critical value\n",
    "\n",
    "from scipy.stats import chi2\n",
    "alpha = 0.05\n",
    "critical_value = chi2.ppf(q=1-alpha, df=dof)\n",
    "print('critical_value:', critical_value)"
   ]
  },
  {
   "cell_type": "markdown",
   "metadata": {},
   "source": [
    "`scipy.stats.chi2.ppf(q, df, loc=0, scale=1): Percent point function (inverse of cdf — percentiles)`"
   ]
  },
  {
   "cell_type": "code",
   "execution_count": 40,
   "metadata": {},
   "outputs": [
    {
     "name": "stdout",
     "output_type": "stream",
     "text": [
      "Reject H0, There is a relationship between gender and colour preference\n",
      "Reject H0, There is a relationship between gender and colour preference\n"
     ]
    }
   ],
   "source": [
    "# Inference\n",
    "\n",
    "if chi_stat>=critical_value:\n",
    "    print(\"Reject H0, There is a relationship between gender and colour preference\")\n",
    "else:\n",
    "    print(\"Accept H0, There is no relationship between gender and colour preference\")\n",
    "    \n",
    "if pval<=alpha:\n",
    "    print(\"Reject H0, There is a relationship between gender and colour preference\")\n",
    "else:\n",
    "    print(\"Accept H0, There is no relationship between gedner and colour preference\")"
   ]
  },
  {
   "cell_type": "markdown",
   "metadata": {},
   "source": [
    "#### Mann Whitney U Test\n",
    "- The Mann Whitney U test, sometimes called the Mann Whitney Wilcoxon Test or the Wilcoxon Rank Sum Test, is used to test whether two samples are likely to derive from the same population \n",
    "- The null hypothesis is that there is no difference between the distributions of the data samples\n",
    "- We can implement the Mann-Whitney U test in Python using the `mannwhitneyu()` SciPy function; the functions takes the two data samples as arguments, and returns the test statistic and the p-value"
   ]
  },
  {
   "cell_type": "markdown",
   "metadata": {},
   "source": [
    "#### Kruskal-Wallis H test\n",
    "- The Kruskal-Wallis H test (sometimes also called the \"one-way ANOVA on ranks\") is a rank-based nonparametric test that can be used to determine if there are statistically significant differences between two or more groups of an independent variable on a continuous or ordinal dependent variable\n",
    "- It is considered the nonparametric alternative to the one-way ANOVA, and an extension of the Mann-Whitney U test to allow the comparison of more than two independent groups\n",
    "- The default assumption or the null hypothesis is that all data samples were drawn from the same distribution; specifically, that the population medians of all groups are equal\n",
    "- The Kruskal-Wallis H-test can be implemented in Python using the `kruskal()` SciPy function; it takes two or more data samples as arguments and returns the test statistic and p-value as the result"
   ]
  },
  {
   "cell_type": "code",
   "execution_count": 41,
   "metadata": {},
   "outputs": [],
   "source": [
    "#### end of notebook"
   ]
  }
 ],
 "metadata": {
  "kernelspec": {
   "display_name": "Python 3",
   "language": "python",
   "name": "python3"
  },
  "language_info": {
   "codemirror_mode": {
    "name": "ipython",
    "version": 3
   },
   "file_extension": ".py",
   "mimetype": "text/x-python",
   "name": "python",
   "nbconvert_exporter": "python",
   "pygments_lexer": "ipython3",
   "version": "3.8.8"
  }
 },
 "nbformat": 4,
 "nbformat_minor": 2
}
