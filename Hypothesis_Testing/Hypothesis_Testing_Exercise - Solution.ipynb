{
 "cells": [
  {
   "cell_type": "code",
   "execution_count": 1,
   "id": "3c64f74a",
   "metadata": {},
   "outputs": [],
   "source": [
    "# 1. Consider the sales data of two samples collected at random. Are the two samples associated with each other?\n",
    "#    What test will you use for the same? Chart out the inference drawn."
   ]
  },
  {
   "cell_type": "code",
   "execution_count": 2,
   "id": "3cde341c",
   "metadata": {},
   "outputs": [],
   "source": [
    "# H0: The two samples are related with each other\n",
    "# H1: The two samples are not related with each other"
   ]
  },
  {
   "cell_type": "code",
   "execution_count": 3,
   "id": "b9371a04",
   "metadata": {},
   "outputs": [
    {
     "data": {
      "text/html": [
       "<div>\n",
       "<style scoped>\n",
       "    .dataframe tbody tr th:only-of-type {\n",
       "        vertical-align: middle;\n",
       "    }\n",
       "\n",
       "    .dataframe tbody tr th {\n",
       "        vertical-align: top;\n",
       "    }\n",
       "\n",
       "    .dataframe thead th {\n",
       "        text-align: right;\n",
       "    }\n",
       "</style>\n",
       "<table border=\"1\" class=\"dataframe\">\n",
       "  <thead>\n",
       "    <tr style=\"text-align: right;\">\n",
       "      <th></th>\n",
       "      <th>Sales_1</th>\n",
       "      <th>Sales_2</th>\n",
       "    </tr>\n",
       "  </thead>\n",
       "  <tbody>\n",
       "    <tr>\n",
       "      <th>0</th>\n",
       "      <td>32</td>\n",
       "      <td>39</td>\n",
       "    </tr>\n",
       "    <tr>\n",
       "      <th>1</th>\n",
       "      <td>34</td>\n",
       "      <td>27</td>\n",
       "    </tr>\n",
       "    <tr>\n",
       "      <th>2</th>\n",
       "      <td>29</td>\n",
       "      <td>32</td>\n",
       "    </tr>\n",
       "    <tr>\n",
       "      <th>3</th>\n",
       "      <td>29</td>\n",
       "      <td>32</td>\n",
       "    </tr>\n",
       "    <tr>\n",
       "      <th>4</th>\n",
       "      <td>22</td>\n",
       "      <td>25</td>\n",
       "    </tr>\n",
       "    <tr>\n",
       "      <th>5</th>\n",
       "      <td>39</td>\n",
       "      <td>35</td>\n",
       "    </tr>\n",
       "    <tr>\n",
       "      <th>6</th>\n",
       "      <td>38</td>\n",
       "      <td>39</td>\n",
       "    </tr>\n",
       "    <tr>\n",
       "      <th>7</th>\n",
       "      <td>37</td>\n",
       "      <td>35</td>\n",
       "    </tr>\n",
       "    <tr>\n",
       "      <th>8</th>\n",
       "      <td>38</td>\n",
       "      <td>28</td>\n",
       "    </tr>\n",
       "    <tr>\n",
       "      <th>9</th>\n",
       "      <td>36</td>\n",
       "      <td>22</td>\n",
       "    </tr>\n",
       "    <tr>\n",
       "      <th>10</th>\n",
       "      <td>30</td>\n",
       "      <td>22</td>\n",
       "    </tr>\n",
       "    <tr>\n",
       "      <th>11</th>\n",
       "      <td>26</td>\n",
       "      <td>26</td>\n",
       "    </tr>\n",
       "    <tr>\n",
       "      <th>12</th>\n",
       "      <td>22</td>\n",
       "      <td>36</td>\n",
       "    </tr>\n",
       "    <tr>\n",
       "      <th>13</th>\n",
       "      <td>22</td>\n",
       "      <td>30</td>\n",
       "    </tr>\n",
       "  </tbody>\n",
       "</table>\n",
       "</div>"
      ],
      "text/plain": [
       "    Sales_1  Sales_2\n",
       "0        32       39\n",
       "1        34       27\n",
       "2        29       32\n",
       "3        29       32\n",
       "4        22       25\n",
       "5        39       35\n",
       "6        38       39\n",
       "7        37       35\n",
       "8        38       28\n",
       "9        36       22\n",
       "10       30       22\n",
       "11       26       26\n",
       "12       22       36\n",
       "13       22       30"
      ]
     },
     "execution_count": 3,
     "metadata": {},
     "output_type": "execute_result"
    }
   ],
   "source": [
    "import pandas as pd\n",
    "import numpy as np\n",
    "sales_df = pd.read_csv(\"Sales_data_two_sample.csv\")\n",
    "sales_df"
   ]
  },
  {
   "cell_type": "code",
   "execution_count": 4,
   "id": "9ccf0b4c",
   "metadata": {},
   "outputs": [
    {
     "name": "stdout",
     "output_type": "stream",
     "text": [
      "Mean of first sales sample:  31.0\n",
      "Mean of second sales sample:  30.571428571428573\n",
      "Std dev of first sales sample:  6.2634470725607025\n",
      "Std dev of second sales sample:  5.774137107885414\n"
     ]
    }
   ],
   "source": [
    "# Calculating the mean and std dev of both the samples\n",
    "\n",
    "mean_sales1 = sales_df[\"Sales_1\"].mean()\n",
    "mean_sales2 = sales_df[\"Sales_2\"].mean()\n",
    "print(\"Mean of first sales sample: \", mean_sales1)\n",
    "print(\"Mean of second sales sample: \", mean_sales2)\n",
    "\n",
    "std_sales1 = sales_df[\"Sales_1\"].std()\n",
    "std_sales2 = sales_df[\"Sales_2\"].std()\n",
    "print(\"Std dev of first sales sample: \", std_sales1)\n",
    "print(\"Std dev of second sales sample: \", std_sales2)"
   ]
  },
  {
   "cell_type": "code",
   "execution_count": 5,
   "id": "6bf385db",
   "metadata": {},
   "outputs": [
    {
     "name": "stdout",
     "output_type": "stream",
     "text": [
      "p-value 0.8521525600803064\n",
      "we accept null hypothesis\n"
     ]
    }
   ],
   "source": [
    "# Two sample t-test\n",
    "\n",
    "from scipy.stats import ttest_ind\n",
    "tstat, pval = ttest_ind(sales_df[\"Sales_1\"], sales_df[\"Sales_2\"])\n",
    "print(\"p-value\",pval)\n",
    "\n",
    "if pval <0.05:\n",
    "    print(\"we reject null hypothesis\")\n",
    "else:\n",
    "    print(\"we accept null hypothesis\")"
   ]
  },
  {
   "cell_type": "code",
   "execution_count": 6,
   "id": "d59491e1",
   "metadata": {},
   "outputs": [],
   "source": [
    "# Conclusion: p-value > significance level; H0 accepted\n",
    "# The sales samples were taken from the same population"
   ]
  },
  {
   "cell_type": "code",
   "execution_count": 7,
   "id": "53746705",
   "metadata": {},
   "outputs": [],
   "source": [
    "# 2. You have some data recorded concerned with plant growth. Conduct a suitable testing to determine whether any difference\n",
    "#    exists between the different groups' impact on the growth."
   ]
  },
  {
   "cell_type": "code",
   "execution_count": 9,
   "id": "4b351f32",
   "metadata": {},
   "outputs": [
    {
     "data": {
      "text/html": [
       "<div>\n",
       "<style scoped>\n",
       "    .dataframe tbody tr th:only-of-type {\n",
       "        vertical-align: middle;\n",
       "    }\n",
       "\n",
       "    .dataframe tbody tr th {\n",
       "        vertical-align: top;\n",
       "    }\n",
       "\n",
       "    .dataframe thead th {\n",
       "        text-align: right;\n",
       "    }\n",
       "</style>\n",
       "<table border=\"1\" class=\"dataframe\">\n",
       "  <thead>\n",
       "    <tr style=\"text-align: right;\">\n",
       "      <th></th>\n",
       "      <th>Unnamed: 0</th>\n",
       "      <th>weight</th>\n",
       "      <th>group</th>\n",
       "    </tr>\n",
       "  </thead>\n",
       "  <tbody>\n",
       "    <tr>\n",
       "      <th>0</th>\n",
       "      <td>1</td>\n",
       "      <td>4.17</td>\n",
       "      <td>ctrl</td>\n",
       "    </tr>\n",
       "    <tr>\n",
       "      <th>1</th>\n",
       "      <td>2</td>\n",
       "      <td>5.58</td>\n",
       "      <td>ctrl</td>\n",
       "    </tr>\n",
       "    <tr>\n",
       "      <th>2</th>\n",
       "      <td>3</td>\n",
       "      <td>5.18</td>\n",
       "      <td>ctrl</td>\n",
       "    </tr>\n",
       "    <tr>\n",
       "      <th>3</th>\n",
       "      <td>4</td>\n",
       "      <td>6.11</td>\n",
       "      <td>ctrl</td>\n",
       "    </tr>\n",
       "    <tr>\n",
       "      <th>4</th>\n",
       "      <td>5</td>\n",
       "      <td>4.50</td>\n",
       "      <td>ctrl</td>\n",
       "    </tr>\n",
       "  </tbody>\n",
       "</table>\n",
       "</div>"
      ],
      "text/plain": [
       "   Unnamed: 0  weight group\n",
       "0           1    4.17  ctrl\n",
       "1           2    5.58  ctrl\n",
       "2           3    5.18  ctrl\n",
       "3           4    6.11  ctrl\n",
       "4           5    4.50  ctrl"
      ]
     },
     "execution_count": 9,
     "metadata": {},
     "output_type": "execute_result"
    }
   ],
   "source": [
    "plant_df = pd.read_csv(\"PlantGrowth.csv\")\n",
    "plant_df.head()"
   ]
  },
  {
   "cell_type": "code",
   "execution_count": 10,
   "id": "aca64d18",
   "metadata": {},
   "outputs": [
    {
     "data": {
      "text/html": [
       "<div>\n",
       "<style scoped>\n",
       "    .dataframe tbody tr th:only-of-type {\n",
       "        vertical-align: middle;\n",
       "    }\n",
       "\n",
       "    .dataframe tbody tr th {\n",
       "        vertical-align: top;\n",
       "    }\n",
       "\n",
       "    .dataframe thead th {\n",
       "        text-align: right;\n",
       "    }\n",
       "</style>\n",
       "<table border=\"1\" class=\"dataframe\">\n",
       "  <thead>\n",
       "    <tr style=\"text-align: right;\">\n",
       "      <th></th>\n",
       "      <th>weight</th>\n",
       "    </tr>\n",
       "    <tr>\n",
       "      <th>group</th>\n",
       "      <th></th>\n",
       "    </tr>\n",
       "  </thead>\n",
       "  <tbody>\n",
       "    <tr>\n",
       "      <th>ctrl</th>\n",
       "      <td>5.032</td>\n",
       "    </tr>\n",
       "    <tr>\n",
       "      <th>trt1</th>\n",
       "      <td>4.661</td>\n",
       "    </tr>\n",
       "    <tr>\n",
       "      <th>trt2</th>\n",
       "      <td>5.526</td>\n",
       "    </tr>\n",
       "  </tbody>\n",
       "</table>\n",
       "</div>"
      ],
      "text/plain": [
       "       weight\n",
       "group        \n",
       "ctrl    5.032\n",
       "trt1    4.661\n",
       "trt2    5.526"
      ]
     },
     "execution_count": 10,
     "metadata": {},
     "output_type": "execute_result"
    }
   ],
   "source": [
    "df_anova = plant_df[['weight','group']]\n",
    "\n",
    "# Analyzing mean weight across various groups\n",
    "df_anova.groupby('group').agg({'weight':np.mean})"
   ]
  },
  {
   "cell_type": "code",
   "execution_count": 11,
   "id": "48117e83",
   "metadata": {},
   "outputs": [
    {
     "data": {
      "text/plain": [
       "F_onewayResult(statistic=4.846087862380136, pvalue=0.0159099583256229)"
      ]
     },
     "execution_count": 11,
     "metadata": {},
     "output_type": "execute_result"
    }
   ],
   "source": [
    "import scipy.stats as stats\n",
    "stats.f_oneway(df_anova['weight'][df_anova['group']=='ctrl'],\n",
    "                      df_anova['weight'][df_anova['group']=='trt1'],\n",
    "                      df_anova['weight'][df_anova['group']=='trt2'])"
   ]
  },
  {
   "cell_type": "code",
   "execution_count": 12,
   "id": "7bbe40a5",
   "metadata": {},
   "outputs": [],
   "source": [
    "# Conclusion: p-value < 0.05; H0 rejected\n",
    "# There is a statistically significant difference between the groups and their effects on the plant growth"
   ]
  }
 ],
 "metadata": {
  "kernelspec": {
   "display_name": "Python 3",
   "language": "python",
   "name": "python3"
  },
  "language_info": {
   "codemirror_mode": {
    "name": "ipython",
    "version": 3
   },
   "file_extension": ".py",
   "mimetype": "text/x-python",
   "name": "python",
   "nbconvert_exporter": "python",
   "pygments_lexer": "ipython3",
   "version": "3.8.8"
  }
 },
 "nbformat": 4,
 "nbformat_minor": 5
}
