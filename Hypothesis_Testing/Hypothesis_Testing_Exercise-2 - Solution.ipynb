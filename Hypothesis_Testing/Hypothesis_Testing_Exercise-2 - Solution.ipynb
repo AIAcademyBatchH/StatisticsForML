{
 "cells": [
  {
   "cell_type": "code",
   "execution_count": 1,
   "id": "9258b830",
   "metadata": {},
   "outputs": [],
   "source": [
    "# 1. An experiment was conducted to compare the effectiveness of ammonium chloride and urea on the grain yield of paddy\n",
    "#    and data of the same is collected. X1 values are the ammonium chloride levels and X2 column denote urea.\n",
    "#    What can you conclude about the effectiveness of the two?"
   ]
  },
  {
   "cell_type": "code",
   "execution_count": 2,
   "id": "8d41c9f9",
   "metadata": {},
   "outputs": [],
   "source": [
    "# Hypothesis\n",
    "# H0: The effect of ammonium chloride and urea on grain yield of paddy are equal i.e., μ1 = μ2\n",
    "# H1: The effect of ammonium chloride and urea on grain yield of paddy is not equal i.e., μ1 ≠ μ2"
   ]
  },
  {
   "cell_type": "code",
   "execution_count": 3,
   "id": "00e145dc",
   "metadata": {},
   "outputs": [
    {
     "data": {
      "text/html": [
       "<div>\n",
       "<style scoped>\n",
       "    .dataframe tbody tr th:only-of-type {\n",
       "        vertical-align: middle;\n",
       "    }\n",
       "\n",
       "    .dataframe tbody tr th {\n",
       "        vertical-align: top;\n",
       "    }\n",
       "\n",
       "    .dataframe thead th {\n",
       "        text-align: right;\n",
       "    }\n",
       "</style>\n",
       "<table border=\"1\" class=\"dataframe\">\n",
       "  <thead>\n",
       "    <tr style=\"text-align: right;\">\n",
       "      <th></th>\n",
       "      <th>X1</th>\n",
       "      <th>X2</th>\n",
       "    </tr>\n",
       "  </thead>\n",
       "  <tbody>\n",
       "    <tr>\n",
       "      <th>0</th>\n",
       "      <td>13.4</td>\n",
       "      <td>12.0</td>\n",
       "    </tr>\n",
       "    <tr>\n",
       "      <th>1</th>\n",
       "      <td>10.9</td>\n",
       "      <td>11.7</td>\n",
       "    </tr>\n",
       "    <tr>\n",
       "      <th>2</th>\n",
       "      <td>11.2</td>\n",
       "      <td>10.7</td>\n",
       "    </tr>\n",
       "    <tr>\n",
       "      <th>3</th>\n",
       "      <td>11.8</td>\n",
       "      <td>11.2</td>\n",
       "    </tr>\n",
       "    <tr>\n",
       "      <th>4</th>\n",
       "      <td>14.0</td>\n",
       "      <td>14.8</td>\n",
       "    </tr>\n",
       "  </tbody>\n",
       "</table>\n",
       "</div>"
      ],
      "text/plain": [
       "     X1    X2\n",
       "0  13.4  12.0\n",
       "1  10.9  11.7\n",
       "2  11.2  10.7\n",
       "3  11.8  11.2\n",
       "4  14.0  14.8"
      ]
     },
     "execution_count": 3,
     "metadata": {},
     "output_type": "execute_result"
    }
   ],
   "source": [
    "import pandas as pd\n",
    "import numpy as np\n",
    "\n",
    "paddy_df = pd.read_csv(\"Paddy_yield_data.csv\")\n",
    "paddy_df.head()"
   ]
  },
  {
   "cell_type": "code",
   "execution_count": 4,
   "id": "77cc36cc",
   "metadata": {},
   "outputs": [
    {
     "name": "stdout",
     "output_type": "stream",
     "text": [
      "Test statistic:  0.1846496543760765\n",
      "p-value:  0.8551954147800473\n"
     ]
    }
   ],
   "source": [
    "from scipy.stats import ttest_ind\n",
    "tstat, pval = ttest_ind(paddy_df['X1'], paddy_df['X2'])\n",
    "print(\"Test statistic: \", tstat)\n",
    "print(\"p-value: \", pval)"
   ]
  },
  {
   "cell_type": "code",
   "execution_count": 5,
   "id": "aa65ea35",
   "metadata": {},
   "outputs": [
    {
     "name": "stdout",
     "output_type": "stream",
     "text": [
      "Accept H0\n"
     ]
    }
   ],
   "source": [
    "alpha = 0.05\n",
    "if pval <= alpha:\n",
    "    print(\"Reject H0\")\n",
    "else:\n",
    "    print(\"Accept H0\")"
   ]
  },
  {
   "cell_type": "code",
   "execution_count": 6,
   "id": "a761c12c",
   "metadata": {},
   "outputs": [],
   "source": [
    "# Conclusion: The effect of ammonium chloride and urea on grain yield of paddy are equal i.e., μ1 = μ2"
   ]
  },
  {
   "cell_type": "code",
   "execution_count": 7,
   "id": "459bca15",
   "metadata": {},
   "outputs": [],
   "source": [
    "#################################################################"
   ]
  },
  {
   "cell_type": "code",
   "execution_count": 8,
   "id": "73d0ff7f",
   "metadata": {},
   "outputs": [],
   "source": [
    "# 2. Suppose the IQ in a certain population is normally distributed with a mean of μ = 100 and standard deviation of σ = 15.\n",
    "#    A researcher wants to know if a new drug affects IQ levels, so he recruits 20 patients to try it \n",
    "#    and records their IQ levels. How to determine if the new drug causes a significant difference in IQ levels?"
   ]
  },
  {
   "cell_type": "code",
   "execution_count": 9,
   "id": "8392c169",
   "metadata": {},
   "outputs": [],
   "source": [
    "# H0: The new drug does not affect IQ, i.e., μ = 100\n",
    "# H1: The new drug significantly affects IQ, i.e., μ ≠ 100"
   ]
  },
  {
   "cell_type": "code",
   "execution_count": 10,
   "id": "05bde595",
   "metadata": {},
   "outputs": [
    {
     "data": {
      "text/html": [
       "<div>\n",
       "<style scoped>\n",
       "    .dataframe tbody tr th:only-of-type {\n",
       "        vertical-align: middle;\n",
       "    }\n",
       "\n",
       "    .dataframe tbody tr th {\n",
       "        vertical-align: top;\n",
       "    }\n",
       "\n",
       "    .dataframe thead th {\n",
       "        text-align: right;\n",
       "    }\n",
       "</style>\n",
       "<table border=\"1\" class=\"dataframe\">\n",
       "  <thead>\n",
       "    <tr style=\"text-align: right;\">\n",
       "      <th></th>\n",
       "      <th>IQ Level</th>\n",
       "    </tr>\n",
       "  </thead>\n",
       "  <tbody>\n",
       "    <tr>\n",
       "      <th>0</th>\n",
       "      <td>88</td>\n",
       "    </tr>\n",
       "    <tr>\n",
       "      <th>1</th>\n",
       "      <td>92</td>\n",
       "    </tr>\n",
       "    <tr>\n",
       "      <th>2</th>\n",
       "      <td>94</td>\n",
       "    </tr>\n",
       "    <tr>\n",
       "      <th>3</th>\n",
       "      <td>94</td>\n",
       "    </tr>\n",
       "    <tr>\n",
       "      <th>4</th>\n",
       "      <td>96</td>\n",
       "    </tr>\n",
       "  </tbody>\n",
       "</table>\n",
       "</div>"
      ],
      "text/plain": [
       "   IQ Level\n",
       "0        88\n",
       "1        92\n",
       "2        94\n",
       "3        94\n",
       "4        96"
      ]
     },
     "execution_count": 10,
     "metadata": {},
     "output_type": "execute_result"
    }
   ],
   "source": [
    "iq_df = pd.read_csv(\"IQ_data.csv\")\n",
    "iq_df.head()"
   ]
  },
  {
   "cell_type": "code",
   "execution_count": 11,
   "id": "70e52e1c",
   "metadata": {},
   "outputs": [
    {
     "name": "stdout",
     "output_type": "stream",
     "text": [
      "Test statistic:  1.5976240527147705\n",
      "p-value:  0.1101266701438426\n"
     ]
    }
   ],
   "source": [
    "from statsmodels.stats.weightstats import ztest\n",
    "zstat, pval = ztest(iq_df['IQ Level'], value=100)\n",
    "print(\"Test statistic: \", zstat)\n",
    "print(\"p-value: \", pval)"
   ]
  },
  {
   "cell_type": "code",
   "execution_count": 12,
   "id": "b28a65fe",
   "metadata": {},
   "outputs": [
    {
     "name": "stdout",
     "output_type": "stream",
     "text": [
      "Accept H0\n"
     ]
    }
   ],
   "source": [
    "alpha = 0.05\n",
    "if pval <= alpha:\n",
    "    print(\"Reject H0\")\n",
    "else:\n",
    "    print(\"Accept H0\")"
   ]
  },
  {
   "cell_type": "code",
   "execution_count": 13,
   "id": "d6307402",
   "metadata": {},
   "outputs": [],
   "source": [
    "# Conclusion: The new drug does not significantly affect IQ, i.e., μ = 100"
   ]
  },
  {
   "cell_type": "code",
   "execution_count": 14,
   "id": "d0a823c1",
   "metadata": {},
   "outputs": [],
   "source": [
    "#############################################################"
   ]
  },
  {
   "cell_type": "code",
   "execution_count": 15,
   "id": "f5541dfa",
   "metadata": {},
   "outputs": [],
   "source": [
    "# 3. Suppose the IQ levels among individuals in two different cities are known to be normally distributed \n",
    "#    with known standard deviations. A researcher wants to know if the mean IQ level between individuals in city A and city B\n",
    "#    are different, so she selects a simple random sample of 20 individuals from each city and records their IQ levels.\n",
    "#    What can you conclude about the same?"
   ]
  },
  {
   "cell_type": "code",
   "execution_count": 16,
   "id": "b6fac732",
   "metadata": {},
   "outputs": [],
   "source": [
    "# H0: Mean IQ levels in both cities are the same\n",
    "# H1: Mean IQ levels in both cities are not the same"
   ]
  },
  {
   "cell_type": "code",
   "execution_count": 17,
   "id": "b7931f07",
   "metadata": {},
   "outputs": [
    {
     "data": {
      "text/html": [
       "<div>\n",
       "<style scoped>\n",
       "    .dataframe tbody tr th:only-of-type {\n",
       "        vertical-align: middle;\n",
       "    }\n",
       "\n",
       "    .dataframe tbody tr th {\n",
       "        vertical-align: top;\n",
       "    }\n",
       "\n",
       "    .dataframe thead th {\n",
       "        text-align: right;\n",
       "    }\n",
       "</style>\n",
       "<table border=\"1\" class=\"dataframe\">\n",
       "  <thead>\n",
       "    <tr style=\"text-align: right;\">\n",
       "      <th></th>\n",
       "      <th>IQ_CITYA</th>\n",
       "      <th>IQ_CITYB</th>\n",
       "    </tr>\n",
       "  </thead>\n",
       "  <tbody>\n",
       "    <tr>\n",
       "      <th>0</th>\n",
       "      <td>82</td>\n",
       "      <td>90</td>\n",
       "    </tr>\n",
       "    <tr>\n",
       "      <th>1</th>\n",
       "      <td>84</td>\n",
       "      <td>91</td>\n",
       "    </tr>\n",
       "    <tr>\n",
       "      <th>2</th>\n",
       "      <td>85</td>\n",
       "      <td>91</td>\n",
       "    </tr>\n",
       "    <tr>\n",
       "      <th>3</th>\n",
       "      <td>89</td>\n",
       "      <td>91</td>\n",
       "    </tr>\n",
       "    <tr>\n",
       "      <th>4</th>\n",
       "      <td>91</td>\n",
       "      <td>95</td>\n",
       "    </tr>\n",
       "  </tbody>\n",
       "</table>\n",
       "</div>"
      ],
      "text/plain": [
       "   IQ_CITYA  IQ_CITYB\n",
       "0        82        90\n",
       "1        84        91\n",
       "2        85        91\n",
       "3        89        91\n",
       "4        91        95"
      ]
     },
     "execution_count": 17,
     "metadata": {},
     "output_type": "execute_result"
    }
   ],
   "source": [
    "iq_city = pd.read_csv(\"IQ_city_data.csv\")\n",
    "iq_city.head()"
   ]
  },
  {
   "cell_type": "code",
   "execution_count": 18,
   "id": "6156f78c",
   "metadata": {},
   "outputs": [
    {
     "name": "stdout",
     "output_type": "stream",
     "text": [
      "Test statistic:  -1.9953236073282115\n",
      "p-value:  0.046007596761332065\n"
     ]
    }
   ],
   "source": [
    "zstat, pval = ztest(iq_city['IQ_CITYA'], iq_city['IQ_CITYB'], value=0)\n",
    "print(\"Test statistic: \", zstat)\n",
    "print(\"p-value: \", pval)"
   ]
  },
  {
   "cell_type": "code",
   "execution_count": 19,
   "id": "4a9fa165",
   "metadata": {},
   "outputs": [
    {
     "name": "stdout",
     "output_type": "stream",
     "text": [
      "Reject H0\n"
     ]
    }
   ],
   "source": [
    "alpha = 0.05\n",
    "if pval <= alpha:\n",
    "    print(\"Reject H0\")\n",
    "else:\n",
    "    print(\"Accept H0\")"
   ]
  },
  {
   "cell_type": "code",
   "execution_count": 20,
   "id": "03eb241c",
   "metadata": {},
   "outputs": [],
   "source": [
    "# Conclusion: Mean IQ levels in both cities are significantly different"
   ]
  },
  {
   "cell_type": "code",
   "execution_count": 21,
   "id": "212d1c02",
   "metadata": {},
   "outputs": [],
   "source": [
    "# 4. An experiment was carried out to evaluate how genotype and number of years affect yield of a certain crop and data is\n",
    "#    collected on the same. What do you infer about the effect of genotype and years on the yield independently as well as\n",
    "#    collectively?"
   ]
  },
  {
   "cell_type": "code",
   "execution_count": 22,
   "id": "0ae80c78",
   "metadata": {},
   "outputs": [
    {
     "data": {
      "text/html": [
       "<div>\n",
       "<style scoped>\n",
       "    .dataframe tbody tr th:only-of-type {\n",
       "        vertical-align: middle;\n",
       "    }\n",
       "\n",
       "    .dataframe tbody tr th {\n",
       "        vertical-align: top;\n",
       "    }\n",
       "\n",
       "    .dataframe thead th {\n",
       "        text-align: right;\n",
       "    }\n",
       "</style>\n",
       "<table border=\"1\" class=\"dataframe\">\n",
       "  <thead>\n",
       "    <tr style=\"text-align: right;\">\n",
       "      <th></th>\n",
       "      <th>Genotype</th>\n",
       "      <th>1_year</th>\n",
       "      <th>2_year</th>\n",
       "      <th>3_year</th>\n",
       "    </tr>\n",
       "  </thead>\n",
       "  <tbody>\n",
       "    <tr>\n",
       "      <th>0</th>\n",
       "      <td>A</td>\n",
       "      <td>1.53</td>\n",
       "      <td>4.08</td>\n",
       "      <td>6.69</td>\n",
       "    </tr>\n",
       "    <tr>\n",
       "      <th>1</th>\n",
       "      <td>A</td>\n",
       "      <td>1.83</td>\n",
       "      <td>3.84</td>\n",
       "      <td>5.97</td>\n",
       "    </tr>\n",
       "    <tr>\n",
       "      <th>2</th>\n",
       "      <td>A</td>\n",
       "      <td>1.38</td>\n",
       "      <td>3.96</td>\n",
       "      <td>6.33</td>\n",
       "    </tr>\n",
       "    <tr>\n",
       "      <th>3</th>\n",
       "      <td>B</td>\n",
       "      <td>3.60</td>\n",
       "      <td>5.70</td>\n",
       "      <td>8.55</td>\n",
       "    </tr>\n",
       "    <tr>\n",
       "      <th>4</th>\n",
       "      <td>B</td>\n",
       "      <td>2.94</td>\n",
       "      <td>5.07</td>\n",
       "      <td>7.95</td>\n",
       "    </tr>\n",
       "  </tbody>\n",
       "</table>\n",
       "</div>"
      ],
      "text/plain": [
       "  Genotype  1_year  2_year  3_year\n",
       "0        A    1.53    4.08    6.69\n",
       "1        A    1.83    3.84    5.97\n",
       "2        A    1.38    3.96    6.33\n",
       "3        B    3.60    5.70    8.55\n",
       "4        B    2.94    5.07    7.95"
      ]
     },
     "execution_count": 22,
     "metadata": {},
     "output_type": "execute_result"
    }
   ],
   "source": [
    "gen_df = pd.read_csv(\"Genotype_yield_data.csv\")\n",
    "gen_df.head()"
   ]
  },
  {
   "cell_type": "code",
   "execution_count": 23,
   "id": "e19a794b",
   "metadata": {},
   "outputs": [
    {
     "data": {
      "text/html": [
       "<div>\n",
       "<style scoped>\n",
       "    .dataframe tbody tr th:only-of-type {\n",
       "        vertical-align: middle;\n",
       "    }\n",
       "\n",
       "    .dataframe tbody tr th {\n",
       "        vertical-align: top;\n",
       "    }\n",
       "\n",
       "    .dataframe thead th {\n",
       "        text-align: right;\n",
       "    }\n",
       "</style>\n",
       "<table border=\"1\" class=\"dataframe\">\n",
       "  <thead>\n",
       "    <tr style=\"text-align: right;\">\n",
       "      <th></th>\n",
       "      <th>Genotype</th>\n",
       "      <th>variable</th>\n",
       "      <th>value</th>\n",
       "    </tr>\n",
       "  </thead>\n",
       "  <tbody>\n",
       "    <tr>\n",
       "      <th>0</th>\n",
       "      <td>A</td>\n",
       "      <td>1_year</td>\n",
       "      <td>1.53</td>\n",
       "    </tr>\n",
       "    <tr>\n",
       "      <th>1</th>\n",
       "      <td>A</td>\n",
       "      <td>1_year</td>\n",
       "      <td>1.83</td>\n",
       "    </tr>\n",
       "    <tr>\n",
       "      <th>2</th>\n",
       "      <td>A</td>\n",
       "      <td>1_year</td>\n",
       "      <td>1.38</td>\n",
       "    </tr>\n",
       "    <tr>\n",
       "      <th>3</th>\n",
       "      <td>B</td>\n",
       "      <td>1_year</td>\n",
       "      <td>3.60</td>\n",
       "    </tr>\n",
       "    <tr>\n",
       "      <th>4</th>\n",
       "      <td>B</td>\n",
       "      <td>1_year</td>\n",
       "      <td>2.94</td>\n",
       "    </tr>\n",
       "    <tr>\n",
       "      <th>5</th>\n",
       "      <td>B</td>\n",
       "      <td>1_year</td>\n",
       "      <td>4.02</td>\n",
       "    </tr>\n",
       "    <tr>\n",
       "      <th>6</th>\n",
       "      <td>C</td>\n",
       "      <td>1_year</td>\n",
       "      <td>3.99</td>\n",
       "    </tr>\n",
       "    <tr>\n",
       "      <th>7</th>\n",
       "      <td>C</td>\n",
       "      <td>1_year</td>\n",
       "      <td>3.30</td>\n",
       "    </tr>\n",
       "    <tr>\n",
       "      <th>8</th>\n",
       "      <td>C</td>\n",
       "      <td>1_year</td>\n",
       "      <td>4.41</td>\n",
       "    </tr>\n",
       "    <tr>\n",
       "      <th>9</th>\n",
       "      <td>D</td>\n",
       "      <td>1_year</td>\n",
       "      <td>3.75</td>\n",
       "    </tr>\n",
       "  </tbody>\n",
       "</table>\n",
       "</div>"
      ],
      "text/plain": [
       "  Genotype variable  value\n",
       "0        A   1_year   1.53\n",
       "1        A   1_year   1.83\n",
       "2        A   1_year   1.38\n",
       "3        B   1_year   3.60\n",
       "4        B   1_year   2.94\n",
       "5        B   1_year   4.02\n",
       "6        C   1_year   3.99\n",
       "7        C   1_year   3.30\n",
       "8        C   1_year   4.41\n",
       "9        D   1_year   3.75"
      ]
     },
     "execution_count": 23,
     "metadata": {},
     "output_type": "execute_result"
    }
   ],
   "source": [
    "# Reshape the dataframe into stacked format suitable for statsmodels package \n",
    "gen_df_melt = pd.melt(gen_df, id_vars=['Genotype'], value_vars=['1_year', '2_year', '3_year'])\n",
    "gen_df_melt.head(10)"
   ]
  },
  {
   "cell_type": "code",
   "execution_count": 24,
   "id": "029dbc3d",
   "metadata": {},
   "outputs": [],
   "source": [
    "# Renaming the cols\n",
    "gen_df_melt.columns = ['Genotype', 'Years', 'Value']"
   ]
  },
  {
   "cell_type": "code",
   "execution_count": 25,
   "id": "8d69f736",
   "metadata": {},
   "outputs": [
    {
     "data": {
      "text/html": [
       "<div>\n",
       "<style scoped>\n",
       "    .dataframe tbody tr th:only-of-type {\n",
       "        vertical-align: middle;\n",
       "    }\n",
       "\n",
       "    .dataframe tbody tr th {\n",
       "        vertical-align: top;\n",
       "    }\n",
       "\n",
       "    .dataframe thead th {\n",
       "        text-align: right;\n",
       "    }\n",
       "</style>\n",
       "<table border=\"1\" class=\"dataframe\">\n",
       "  <thead>\n",
       "    <tr style=\"text-align: right;\">\n",
       "      <th></th>\n",
       "      <th>sum_sq</th>\n",
       "      <th>df</th>\n",
       "      <th>F</th>\n",
       "      <th>PR(&gt;F)</th>\n",
       "    </tr>\n",
       "  </thead>\n",
       "  <tbody>\n",
       "    <tr>\n",
       "      <th>C(Genotype)</th>\n",
       "      <td>58.551733</td>\n",
       "      <td>5.0</td>\n",
       "      <td>32.748581</td>\n",
       "      <td>1.931655e-12</td>\n",
       "    </tr>\n",
       "    <tr>\n",
       "      <th>C(Years)</th>\n",
       "      <td>278.925633</td>\n",
       "      <td>2.0</td>\n",
       "      <td>390.014868</td>\n",
       "      <td>4.006243e-25</td>\n",
       "    </tr>\n",
       "    <tr>\n",
       "      <th>C(Genotype):C(Years)</th>\n",
       "      <td>17.122967</td>\n",
       "      <td>10.0</td>\n",
       "      <td>4.788525</td>\n",
       "      <td>2.230094e-04</td>\n",
       "    </tr>\n",
       "    <tr>\n",
       "      <th>Residual</th>\n",
       "      <td>12.873000</td>\n",
       "      <td>36.0</td>\n",
       "      <td>NaN</td>\n",
       "      <td>NaN</td>\n",
       "    </tr>\n",
       "  </tbody>\n",
       "</table>\n",
       "</div>"
      ],
      "text/plain": [
       "                          sum_sq    df           F        PR(>F)\n",
       "C(Genotype)            58.551733   5.0   32.748581  1.931655e-12\n",
       "C(Years)              278.925633   2.0  390.014868  4.006243e-25\n",
       "C(Genotype):C(Years)   17.122967  10.0    4.788525  2.230094e-04\n",
       "Residual               12.873000  36.0         NaN           NaN"
      ]
     },
     "execution_count": 25,
     "metadata": {},
     "output_type": "execute_result"
    }
   ],
   "source": [
    "import statsmodels.api as sm\n",
    "from statsmodels.formula.api import ols\n",
    "model = ols('Value ~ C(Genotype) + C(Years) + C(Genotype):C(Years)', data=gen_df_melt).fit()\n",
    "anova_table = sm.stats.anova_lm(model, typ=2)\n",
    "anova_table"
   ]
  },
  {
   "cell_type": "code",
   "execution_count": 26,
   "id": "59aa2a39",
   "metadata": {},
   "outputs": [],
   "source": [
    "# Conclusion: \n",
    "# The p value obtained from ANOVA analysis for genotype, years, and interaction are statistically significant (p<0.05)\n",
    "# We conclude that type of genotype significantly affects the yield outcome, time (years)\n",
    "# significantly affects the yield outcome, and interaction of both genotype and time (years) \n",
    "# significantly affects the yield outcome."
   ]
  },
  {
   "cell_type": "code",
   "execution_count": 27,
   "id": "6177a949",
   "metadata": {},
   "outputs": [],
   "source": [
    "#######################################################################"
   ]
  },
  {
   "cell_type": "code",
   "execution_count": 28,
   "id": "e60b3a7d",
   "metadata": {},
   "outputs": [],
   "source": [
    "# 5. A survey was conducted on a small sample of population to analyse the relationship between gender and preference for a \n",
    "#    particular phone brand. Are gender and brand preference associated with each other?"
   ]
  },
  {
   "cell_type": "code",
   "execution_count": 29,
   "id": "72dafc5c",
   "metadata": {},
   "outputs": [],
   "source": [
    "# H0: Gender and brand preference are dependent\n",
    "# H1: Gender and brand preference are independent"
   ]
  },
  {
   "cell_type": "code",
   "execution_count": 30,
   "id": "4b6bb1c7",
   "metadata": {},
   "outputs": [
    {
     "data": {
      "text/html": [
       "<div>\n",
       "<style scoped>\n",
       "    .dataframe tbody tr th:only-of-type {\n",
       "        vertical-align: middle;\n",
       "    }\n",
       "\n",
       "    .dataframe tbody tr th {\n",
       "        vertical-align: top;\n",
       "    }\n",
       "\n",
       "    .dataframe thead th {\n",
       "        text-align: right;\n",
       "    }\n",
       "</style>\n",
       "<table border=\"1\" class=\"dataframe\">\n",
       "  <thead>\n",
       "    <tr style=\"text-align: right;\">\n",
       "      <th></th>\n",
       "      <th>Gender</th>\n",
       "      <th>iPhone</th>\n",
       "      <th>Samsung</th>\n",
       "      <th>Redmi</th>\n",
       "    </tr>\n",
       "  </thead>\n",
       "  <tbody>\n",
       "    <tr>\n",
       "      <th>0</th>\n",
       "      <td>Male</td>\n",
       "      <td>102</td>\n",
       "      <td>115</td>\n",
       "      <td>123</td>\n",
       "    </tr>\n",
       "    <tr>\n",
       "      <th>1</th>\n",
       "      <td>Female</td>\n",
       "      <td>54</td>\n",
       "      <td>89</td>\n",
       "      <td>47</td>\n",
       "    </tr>\n",
       "  </tbody>\n",
       "</table>\n",
       "</div>"
      ],
      "text/plain": [
       "   Gender  iPhone  Samsung  Redmi\n",
       "0    Male     102      115    123\n",
       "1  Female      54       89     47"
      ]
     },
     "execution_count": 30,
     "metadata": {},
     "output_type": "execute_result"
    }
   ],
   "source": [
    "brand_df = pd.read_csv(\"Phone_brand_data.csv\")\n",
    "brand_df"
   ]
  },
  {
   "cell_type": "code",
   "execution_count": 31,
   "id": "d1fddd23",
   "metadata": {},
   "outputs": [],
   "source": [
    "brand_df.set_index(keys='Gender', inplace=True)"
   ]
  },
  {
   "cell_type": "code",
   "execution_count": 32,
   "id": "3c6f2985",
   "metadata": {},
   "outputs": [
    {
     "data": {
      "text/html": [
       "<div>\n",
       "<style scoped>\n",
       "    .dataframe tbody tr th:only-of-type {\n",
       "        vertical-align: middle;\n",
       "    }\n",
       "\n",
       "    .dataframe tbody tr th {\n",
       "        vertical-align: top;\n",
       "    }\n",
       "\n",
       "    .dataframe thead th {\n",
       "        text-align: right;\n",
       "    }\n",
       "</style>\n",
       "<table border=\"1\" class=\"dataframe\">\n",
       "  <thead>\n",
       "    <tr style=\"text-align: right;\">\n",
       "      <th></th>\n",
       "      <th>iPhone</th>\n",
       "      <th>Samsung</th>\n",
       "      <th>Redmi</th>\n",
       "    </tr>\n",
       "    <tr>\n",
       "      <th>Gender</th>\n",
       "      <th></th>\n",
       "      <th></th>\n",
       "      <th></th>\n",
       "    </tr>\n",
       "  </thead>\n",
       "  <tbody>\n",
       "    <tr>\n",
       "      <th>Male</th>\n",
       "      <td>102</td>\n",
       "      <td>115</td>\n",
       "      <td>123</td>\n",
       "    </tr>\n",
       "    <tr>\n",
       "      <th>Female</th>\n",
       "      <td>54</td>\n",
       "      <td>89</td>\n",
       "      <td>47</td>\n",
       "    </tr>\n",
       "  </tbody>\n",
       "</table>\n",
       "</div>"
      ],
      "text/plain": [
       "        iPhone  Samsung  Redmi\n",
       "Gender                        \n",
       "Male       102      115    123\n",
       "Female      54       89     47"
      ]
     },
     "execution_count": 32,
     "metadata": {},
     "output_type": "execute_result"
    }
   ],
   "source": [
    "brand_df"
   ]
  },
  {
   "cell_type": "code",
   "execution_count": 33,
   "id": "01d4aaca",
   "metadata": {},
   "outputs": [
    {
     "name": "stdout",
     "output_type": "stream",
     "text": [
      "Chi-square statistic: 10.443084371162136\n",
      "p-value: 0.005398996448349567\n",
      "Degree of Freedom:  2\n",
      "Expected values: \n",
      " [[100.0754717  130.86792453 109.05660377]\n",
      " [ 55.9245283   73.13207547  60.94339623]]\n"
     ]
    }
   ],
   "source": [
    "from scipy import stats\n",
    "chi_stat,pval,dof,expected_values = stats.chi2_contingency(brand_df)\n",
    "\n",
    "print('Chi-square statistic:',chi_stat)\n",
    "print('p-value:',pval)\n",
    "print('Degree of Freedom: ',dof)\n",
    "print('Expected values: \\n', expected_values)"
   ]
  },
  {
   "cell_type": "code",
   "execution_count": 34,
   "id": "8f2d0262",
   "metadata": {},
   "outputs": [
    {
     "name": "stdout",
     "output_type": "stream",
     "text": [
      "critical_value: 5.991464547107979\n"
     ]
    }
   ],
   "source": [
    "# Critical value\n",
    "from scipy.stats import chi2\n",
    "alpha = 0.05\n",
    "critical_value = chi2.ppf(q=1-alpha, df=dof)\n",
    "print('critical_value:', critical_value)"
   ]
  },
  {
   "cell_type": "code",
   "execution_count": 35,
   "id": "4558070e",
   "metadata": {},
   "outputs": [
    {
     "name": "stdout",
     "output_type": "stream",
     "text": [
      "Reject H0, There is a relationship between gender and brand preference\n",
      "Reject H0, There is a relationship between gender and brand preference\n"
     ]
    }
   ],
   "source": [
    "# Inference\n",
    "\n",
    "if chi_stat>=critical_value:\n",
    "    print(\"Reject H0, There is a relationship between gender and brand preference\")\n",
    "else:\n",
    "    print(\"Accept H0, There is no relationship between gender and brand preference\")\n",
    "    \n",
    "if pval<=alpha:\n",
    "    print(\"Reject H0, There is a relationship between gender and brand preference\")\n",
    "else:\n",
    "    print(\"Accept H0, There is no relationship between gender and brand preference\")"
   ]
  },
  {
   "cell_type": "code",
   "execution_count": 36,
   "id": "6e5a7532",
   "metadata": {},
   "outputs": [],
   "source": [
    "## end of notebook"
   ]
  }
 ],
 "metadata": {
  "kernelspec": {
   "display_name": "Python 3 (ipykernel)",
   "language": "python",
   "name": "python3"
  },
  "language_info": {
   "codemirror_mode": {
    "name": "ipython",
    "version": 3
   },
   "file_extension": ".py",
   "mimetype": "text/x-python",
   "name": "python",
   "nbconvert_exporter": "python",
   "pygments_lexer": "ipython3",
   "version": "3.8.11"
  }
 },
 "nbformat": 4,
 "nbformat_minor": 5
}
